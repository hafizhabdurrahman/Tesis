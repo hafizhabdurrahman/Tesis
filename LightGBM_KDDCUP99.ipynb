{
  "nbformat": 4,
  "nbformat_minor": 0,
  "metadata": {
    "colab": {
      "name": "SwiftIDS_Coba.ipynb",
      "provenance": [],
      "authorship_tag": "ABX9TyPsVgzeTsf30tL1uOiozO6c",
      "include_colab_link": true
    },
    "kernelspec": {
      "name": "python3",
      "display_name": "Python 3"
    },
    "language_info": {
      "name": "python"
    }
  },
  "cells": [
    {
      "cell_type": "markdown",
      "metadata": {
        "id": "view-in-github",
        "colab_type": "text"
      },
      "source": [
        "<a href=\"https://colab.research.google.com/github/hafizhabdurrahman/Tesis/blob/main/LightGBM_KDDCUP99.ipynb\" target=\"_parent\"><img src=\"https://colab.research.google.com/assets/colab-badge.svg\" alt=\"Open In Colab\"/></a>"
      ]
    },
    {
      "cell_type": "code",
      "metadata": {
        "colab": {
          "base_uri": "https://localhost:8080/"
        },
        "id": "r0tyNLoPaABF",
        "outputId": "e3a052d4-e146-41a5-9a91-42db068e33d0"
      },
      "source": [
        "#Import dari drive\n",
        "from google.colab import drive\n",
        "\n",
        "drive.mount('/content/gdrive')"
      ],
      "execution_count": 1,
      "outputs": [
        {
          "output_type": "stream",
          "text": [
            "Mounted at /content/gdrive\n"
          ],
          "name": "stdout"
        }
      ]
    },
    {
      "cell_type": "code",
      "metadata": {
        "id": "-0IB1DAMfDf6"
      },
      "source": [
        "import lightgbm as lgb\n",
        "import pandas as pd\n",
        "import matplotlib.pyplot as plt"
      ],
      "execution_count": 2,
      "outputs": []
    },
    {
      "cell_type": "markdown",
      "metadata": {
        "id": "3olAiYHlvyp8"
      },
      "source": [
        "# Multiclass data\n"
      ]
    },
    {
      "cell_type": "code",
      "metadata": {
        "colab": {
          "base_uri": "https://localhost:8080/",
          "height": 226
        },
        "id": "r_8-bakAhHyI",
        "outputId": "5296697e-e303-4ad9-8caa-4c9c91ae8e4c"
      },
      "source": [
        "data = pd.read_csv('/content/gdrive/MyDrive/dataset/KDDCUP99/kddcup99_csv.csv')\n",
        "data.head()"
      ],
      "execution_count": 3,
      "outputs": [
        {
          "output_type": "execute_result",
          "data": {
            "text/html": [
              "<div>\n",
              "<style scoped>\n",
              "    .dataframe tbody tr th:only-of-type {\n",
              "        vertical-align: middle;\n",
              "    }\n",
              "\n",
              "    .dataframe tbody tr th {\n",
              "        vertical-align: top;\n",
              "    }\n",
              "\n",
              "    .dataframe thead th {\n",
              "        text-align: right;\n",
              "    }\n",
              "</style>\n",
              "<table border=\"1\" class=\"dataframe\">\n",
              "  <thead>\n",
              "    <tr style=\"text-align: right;\">\n",
              "      <th></th>\n",
              "      <th>duration</th>\n",
              "      <th>protocol_type</th>\n",
              "      <th>service</th>\n",
              "      <th>flag</th>\n",
              "      <th>src_bytes</th>\n",
              "      <th>dst_bytes</th>\n",
              "      <th>land</th>\n",
              "      <th>wrong_fragment</th>\n",
              "      <th>urgent</th>\n",
              "      <th>hot</th>\n",
              "      <th>num_failed_logins</th>\n",
              "      <th>logged_in</th>\n",
              "      <th>lnum_compromised</th>\n",
              "      <th>lroot_shell</th>\n",
              "      <th>lsu_attempted</th>\n",
              "      <th>lnum_root</th>\n",
              "      <th>lnum_file_creations</th>\n",
              "      <th>lnum_shells</th>\n",
              "      <th>lnum_access_files</th>\n",
              "      <th>lnum_outbound_cmds</th>\n",
              "      <th>is_host_login</th>\n",
              "      <th>is_guest_login</th>\n",
              "      <th>count</th>\n",
              "      <th>srv_count</th>\n",
              "      <th>serror_rate</th>\n",
              "      <th>srv_serror_rate</th>\n",
              "      <th>rerror_rate</th>\n",
              "      <th>srv_rerror_rate</th>\n",
              "      <th>same_srv_rate</th>\n",
              "      <th>diff_srv_rate</th>\n",
              "      <th>srv_diff_host_rate</th>\n",
              "      <th>dst_host_count</th>\n",
              "      <th>dst_host_srv_count</th>\n",
              "      <th>dst_host_same_srv_rate</th>\n",
              "      <th>dst_host_diff_srv_rate</th>\n",
              "      <th>dst_host_same_src_port_rate</th>\n",
              "      <th>dst_host_srv_diff_host_rate</th>\n",
              "      <th>dst_host_serror_rate</th>\n",
              "      <th>dst_host_srv_serror_rate</th>\n",
              "      <th>dst_host_rerror_rate</th>\n",
              "      <th>dst_host_srv_rerror_rate</th>\n",
              "      <th>label</th>\n",
              "    </tr>\n",
              "  </thead>\n",
              "  <tbody>\n",
              "    <tr>\n",
              "      <th>0</th>\n",
              "      <td>0</td>\n",
              "      <td>tcp</td>\n",
              "      <td>http</td>\n",
              "      <td>SF</td>\n",
              "      <td>181</td>\n",
              "      <td>5450</td>\n",
              "      <td>0</td>\n",
              "      <td>0</td>\n",
              "      <td>0</td>\n",
              "      <td>0</td>\n",
              "      <td>0</td>\n",
              "      <td>1</td>\n",
              "      <td>0</td>\n",
              "      <td>0</td>\n",
              "      <td>0</td>\n",
              "      <td>0</td>\n",
              "      <td>0</td>\n",
              "      <td>0</td>\n",
              "      <td>0</td>\n",
              "      <td>0</td>\n",
              "      <td>0</td>\n",
              "      <td>0</td>\n",
              "      <td>8</td>\n",
              "      <td>8</td>\n",
              "      <td>0.0</td>\n",
              "      <td>0.0</td>\n",
              "      <td>0.0</td>\n",
              "      <td>0.0</td>\n",
              "      <td>1.0</td>\n",
              "      <td>0.0</td>\n",
              "      <td>0.0</td>\n",
              "      <td>9</td>\n",
              "      <td>9</td>\n",
              "      <td>1.0</td>\n",
              "      <td>0.0</td>\n",
              "      <td>0.11</td>\n",
              "      <td>0.0</td>\n",
              "      <td>0.0</td>\n",
              "      <td>0.0</td>\n",
              "      <td>0.0</td>\n",
              "      <td>0.0</td>\n",
              "      <td>normal</td>\n",
              "    </tr>\n",
              "    <tr>\n",
              "      <th>1</th>\n",
              "      <td>0</td>\n",
              "      <td>tcp</td>\n",
              "      <td>http</td>\n",
              "      <td>SF</td>\n",
              "      <td>239</td>\n",
              "      <td>486</td>\n",
              "      <td>0</td>\n",
              "      <td>0</td>\n",
              "      <td>0</td>\n",
              "      <td>0</td>\n",
              "      <td>0</td>\n",
              "      <td>1</td>\n",
              "      <td>0</td>\n",
              "      <td>0</td>\n",
              "      <td>0</td>\n",
              "      <td>0</td>\n",
              "      <td>0</td>\n",
              "      <td>0</td>\n",
              "      <td>0</td>\n",
              "      <td>0</td>\n",
              "      <td>0</td>\n",
              "      <td>0</td>\n",
              "      <td>8</td>\n",
              "      <td>8</td>\n",
              "      <td>0.0</td>\n",
              "      <td>0.0</td>\n",
              "      <td>0.0</td>\n",
              "      <td>0.0</td>\n",
              "      <td>1.0</td>\n",
              "      <td>0.0</td>\n",
              "      <td>0.0</td>\n",
              "      <td>19</td>\n",
              "      <td>19</td>\n",
              "      <td>1.0</td>\n",
              "      <td>0.0</td>\n",
              "      <td>0.05</td>\n",
              "      <td>0.0</td>\n",
              "      <td>0.0</td>\n",
              "      <td>0.0</td>\n",
              "      <td>0.0</td>\n",
              "      <td>0.0</td>\n",
              "      <td>normal</td>\n",
              "    </tr>\n",
              "    <tr>\n",
              "      <th>2</th>\n",
              "      <td>0</td>\n",
              "      <td>tcp</td>\n",
              "      <td>http</td>\n",
              "      <td>SF</td>\n",
              "      <td>235</td>\n",
              "      <td>1337</td>\n",
              "      <td>0</td>\n",
              "      <td>0</td>\n",
              "      <td>0</td>\n",
              "      <td>0</td>\n",
              "      <td>0</td>\n",
              "      <td>1</td>\n",
              "      <td>0</td>\n",
              "      <td>0</td>\n",
              "      <td>0</td>\n",
              "      <td>0</td>\n",
              "      <td>0</td>\n",
              "      <td>0</td>\n",
              "      <td>0</td>\n",
              "      <td>0</td>\n",
              "      <td>0</td>\n",
              "      <td>0</td>\n",
              "      <td>8</td>\n",
              "      <td>8</td>\n",
              "      <td>0.0</td>\n",
              "      <td>0.0</td>\n",
              "      <td>0.0</td>\n",
              "      <td>0.0</td>\n",
              "      <td>1.0</td>\n",
              "      <td>0.0</td>\n",
              "      <td>0.0</td>\n",
              "      <td>29</td>\n",
              "      <td>29</td>\n",
              "      <td>1.0</td>\n",
              "      <td>0.0</td>\n",
              "      <td>0.03</td>\n",
              "      <td>0.0</td>\n",
              "      <td>0.0</td>\n",
              "      <td>0.0</td>\n",
              "      <td>0.0</td>\n",
              "      <td>0.0</td>\n",
              "      <td>normal</td>\n",
              "    </tr>\n",
              "    <tr>\n",
              "      <th>3</th>\n",
              "      <td>0</td>\n",
              "      <td>tcp</td>\n",
              "      <td>http</td>\n",
              "      <td>SF</td>\n",
              "      <td>219</td>\n",
              "      <td>1337</td>\n",
              "      <td>0</td>\n",
              "      <td>0</td>\n",
              "      <td>0</td>\n",
              "      <td>0</td>\n",
              "      <td>0</td>\n",
              "      <td>1</td>\n",
              "      <td>0</td>\n",
              "      <td>0</td>\n",
              "      <td>0</td>\n",
              "      <td>0</td>\n",
              "      <td>0</td>\n",
              "      <td>0</td>\n",
              "      <td>0</td>\n",
              "      <td>0</td>\n",
              "      <td>0</td>\n",
              "      <td>0</td>\n",
              "      <td>6</td>\n",
              "      <td>6</td>\n",
              "      <td>0.0</td>\n",
              "      <td>0.0</td>\n",
              "      <td>0.0</td>\n",
              "      <td>0.0</td>\n",
              "      <td>1.0</td>\n",
              "      <td>0.0</td>\n",
              "      <td>0.0</td>\n",
              "      <td>39</td>\n",
              "      <td>39</td>\n",
              "      <td>1.0</td>\n",
              "      <td>0.0</td>\n",
              "      <td>0.03</td>\n",
              "      <td>0.0</td>\n",
              "      <td>0.0</td>\n",
              "      <td>0.0</td>\n",
              "      <td>0.0</td>\n",
              "      <td>0.0</td>\n",
              "      <td>normal</td>\n",
              "    </tr>\n",
              "    <tr>\n",
              "      <th>4</th>\n",
              "      <td>0</td>\n",
              "      <td>tcp</td>\n",
              "      <td>http</td>\n",
              "      <td>SF</td>\n",
              "      <td>217</td>\n",
              "      <td>2032</td>\n",
              "      <td>0</td>\n",
              "      <td>0</td>\n",
              "      <td>0</td>\n",
              "      <td>0</td>\n",
              "      <td>0</td>\n",
              "      <td>1</td>\n",
              "      <td>0</td>\n",
              "      <td>0</td>\n",
              "      <td>0</td>\n",
              "      <td>0</td>\n",
              "      <td>0</td>\n",
              "      <td>0</td>\n",
              "      <td>0</td>\n",
              "      <td>0</td>\n",
              "      <td>0</td>\n",
              "      <td>0</td>\n",
              "      <td>6</td>\n",
              "      <td>6</td>\n",
              "      <td>0.0</td>\n",
              "      <td>0.0</td>\n",
              "      <td>0.0</td>\n",
              "      <td>0.0</td>\n",
              "      <td>1.0</td>\n",
              "      <td>0.0</td>\n",
              "      <td>0.0</td>\n",
              "      <td>49</td>\n",
              "      <td>49</td>\n",
              "      <td>1.0</td>\n",
              "      <td>0.0</td>\n",
              "      <td>0.02</td>\n",
              "      <td>0.0</td>\n",
              "      <td>0.0</td>\n",
              "      <td>0.0</td>\n",
              "      <td>0.0</td>\n",
              "      <td>0.0</td>\n",
              "      <td>normal</td>\n",
              "    </tr>\n",
              "  </tbody>\n",
              "</table>\n",
              "</div>"
            ],
            "text/plain": [
              "   duration protocol_type  ... dst_host_srv_rerror_rate   label\n",
              "0         0           tcp  ...                      0.0  normal\n",
              "1         0           tcp  ...                      0.0  normal\n",
              "2         0           tcp  ...                      0.0  normal\n",
              "3         0           tcp  ...                      0.0  normal\n",
              "4         0           tcp  ...                      0.0  normal\n",
              "\n",
              "[5 rows x 42 columns]"
            ]
          },
          "metadata": {
            "tags": []
          },
          "execution_count": 3
        }
      ]
    },
    {
      "cell_type": "code",
      "metadata": {
        "colab": {
          "base_uri": "https://localhost:8080/"
        },
        "id": "MQfvlCLHhXXQ",
        "outputId": "c91f3ec4-e4c7-405d-ffd7-360a2d18ddbc"
      },
      "source": [
        "print('Null values in dataset are',len(data[data.isnull().any(1)]))"
      ],
      "execution_count": null,
      "outputs": [
        {
          "output_type": "stream",
          "text": [
            "Null values in dataset are 0\n"
          ],
          "name": "stdout"
        }
      ]
    },
    {
      "cell_type": "code",
      "metadata": {
        "colab": {
          "base_uri": "https://localhost:8080/"
        },
        "id": "62JUTacrtehK",
        "outputId": "4a5f5ebb-2915-4e0b-d282-f305ada07a59"
      },
      "source": [
        "data.shape"
      ],
      "execution_count": null,
      "outputs": [
        {
          "output_type": "execute_result",
          "data": {
            "text/plain": [
              "(494020, 42)"
            ]
          },
          "metadata": {
            "tags": []
          },
          "execution_count": 5
        }
      ]
    },
    {
      "cell_type": "code",
      "metadata": {
        "colab": {
          "base_uri": "https://localhost:8080/"
        },
        "id": "LvnRDII0uObD",
        "outputId": "3249af80-4997-436d-bd73-03244c286680"
      },
      "source": [
        "data.columns"
      ],
      "execution_count": null,
      "outputs": [
        {
          "output_type": "execute_result",
          "data": {
            "text/plain": [
              "Index(['duration', 'protocol_type', 'service', 'flag', 'src_bytes',\n",
              "       'dst_bytes', 'land', 'wrong_fragment', 'urgent', 'hot',\n",
              "       'num_failed_logins', 'logged_in', 'lnum_compromised', 'lroot_shell',\n",
              "       'lsu_attempted', 'lnum_root', 'lnum_file_creations', 'lnum_shells',\n",
              "       'lnum_access_files', 'lnum_outbound_cmds', 'is_host_login',\n",
              "       'is_guest_login', 'count', 'srv_count', 'serror_rate',\n",
              "       'srv_serror_rate', 'rerror_rate', 'srv_rerror_rate', 'same_srv_rate',\n",
              "       'diff_srv_rate', 'srv_diff_host_rate', 'dst_host_count',\n",
              "       'dst_host_srv_count', 'dst_host_same_srv_rate',\n",
              "       'dst_host_diff_srv_rate', 'dst_host_same_src_port_rate',\n",
              "       'dst_host_srv_diff_host_rate', 'dst_host_serror_rate',\n",
              "       'dst_host_srv_serror_rate', 'dst_host_rerror_rate',\n",
              "       'dst_host_srv_rerror_rate', 'label'],\n",
              "      dtype='object')"
            ]
          },
          "metadata": {
            "tags": []
          },
          "execution_count": 6
        }
      ]
    },
    {
      "cell_type": "code",
      "metadata": {
        "colab": {
          "base_uri": "https://localhost:8080/"
        },
        "id": "HnvetR6Etsno",
        "outputId": "1ad568f0-bdd9-4f76-ea06-794320045085"
      },
      "source": [
        "data_clean = data.drop_duplicates(subset=data.columns, keep='first')\n",
        "data_clean.shape"
      ],
      "execution_count": 191,
      "outputs": [
        {
          "output_type": "execute_result",
          "data": {
            "text/plain": [
              "(145585, 42)"
            ]
          },
          "metadata": {
            "tags": []
          },
          "execution_count": 191
        }
      ]
    },
    {
      "cell_type": "code",
      "metadata": {
        "colab": {
          "base_uri": "https://localhost:8080/"
        },
        "id": "JnhgJ17623yb",
        "outputId": "38a05fa3-415f-4ca1-b724-5111d03b00b2"
      },
      "source": [
        "data_clean[\"protocol_type\"] =data_clean[\"protocol_type\"].astype('category')\n",
        "data_clean[\"service\"] = data_clean[\"service\"].astype('category')\n",
        "data_clean[\"flag\"] = data_clean[\"flag\"].astype('category')\n",
        "data_clean[\"label\"] = data_clean[\"label\"].astype('category')\n",
        "data_clean.dtypes"
      ],
      "execution_count": 192,
      "outputs": [
        {
          "output_type": "stream",
          "text": [
            "/usr/local/lib/python3.7/dist-packages/ipykernel_launcher.py:1: SettingWithCopyWarning: \n",
            "A value is trying to be set on a copy of a slice from a DataFrame.\n",
            "Try using .loc[row_indexer,col_indexer] = value instead\n",
            "\n",
            "See the caveats in the documentation: https://pandas.pydata.org/pandas-docs/stable/user_guide/indexing.html#returning-a-view-versus-a-copy\n",
            "  \"\"\"Entry point for launching an IPython kernel.\n",
            "/usr/local/lib/python3.7/dist-packages/ipykernel_launcher.py:2: SettingWithCopyWarning: \n",
            "A value is trying to be set on a copy of a slice from a DataFrame.\n",
            "Try using .loc[row_indexer,col_indexer] = value instead\n",
            "\n",
            "See the caveats in the documentation: https://pandas.pydata.org/pandas-docs/stable/user_guide/indexing.html#returning-a-view-versus-a-copy\n",
            "  \n",
            "/usr/local/lib/python3.7/dist-packages/ipykernel_launcher.py:3: SettingWithCopyWarning: \n",
            "A value is trying to be set on a copy of a slice from a DataFrame.\n",
            "Try using .loc[row_indexer,col_indexer] = value instead\n",
            "\n",
            "See the caveats in the documentation: https://pandas.pydata.org/pandas-docs/stable/user_guide/indexing.html#returning-a-view-versus-a-copy\n",
            "  This is separate from the ipykernel package so we can avoid doing imports until\n",
            "/usr/local/lib/python3.7/dist-packages/ipykernel_launcher.py:4: SettingWithCopyWarning: \n",
            "A value is trying to be set on a copy of a slice from a DataFrame.\n",
            "Try using .loc[row_indexer,col_indexer] = value instead\n",
            "\n",
            "See the caveats in the documentation: https://pandas.pydata.org/pandas-docs/stable/user_guide/indexing.html#returning-a-view-versus-a-copy\n",
            "  after removing the cwd from sys.path.\n"
          ],
          "name": "stderr"
        },
        {
          "output_type": "execute_result",
          "data": {
            "text/plain": [
              "duration                          int64\n",
              "protocol_type                  category\n",
              "service                        category\n",
              "flag                           category\n",
              "src_bytes                         int64\n",
              "dst_bytes                         int64\n",
              "land                              int64\n",
              "wrong_fragment                    int64\n",
              "urgent                            int64\n",
              "hot                               int64\n",
              "num_failed_logins                 int64\n",
              "logged_in                         int64\n",
              "lnum_compromised                  int64\n",
              "lroot_shell                       int64\n",
              "lsu_attempted                     int64\n",
              "lnum_root                         int64\n",
              "lnum_file_creations               int64\n",
              "lnum_shells                       int64\n",
              "lnum_access_files                 int64\n",
              "lnum_outbound_cmds                int64\n",
              "is_host_login                     int64\n",
              "is_guest_login                    int64\n",
              "count                             int64\n",
              "srv_count                         int64\n",
              "serror_rate                     float64\n",
              "srv_serror_rate                 float64\n",
              "rerror_rate                     float64\n",
              "srv_rerror_rate                 float64\n",
              "same_srv_rate                   float64\n",
              "diff_srv_rate                   float64\n",
              "srv_diff_host_rate              float64\n",
              "dst_host_count                    int64\n",
              "dst_host_srv_count                int64\n",
              "dst_host_same_srv_rate          float64\n",
              "dst_host_diff_srv_rate          float64\n",
              "dst_host_same_src_port_rate     float64\n",
              "dst_host_srv_diff_host_rate     float64\n",
              "dst_host_serror_rate            float64\n",
              "dst_host_srv_serror_rate        float64\n",
              "dst_host_rerror_rate            float64\n",
              "dst_host_srv_rerror_rate        float64\n",
              "label                          category\n",
              "dtype: object"
            ]
          },
          "metadata": {
            "tags": []
          },
          "execution_count": 192
        }
      ]
    },
    {
      "cell_type": "code",
      "metadata": {
        "id": "AkCDU1yK0Uwu"
      },
      "source": [
        "dict_service = dict(enumerate(data_clean[\"service\"].cat.categories))\n",
        "dict_protocol_type = dict(enumerate(data_clean[\"protocol_type\"].cat.categories))\n",
        "#dict_label = dict(enumerate(data_clean[\"label\"].cat.categories))\n",
        "dict_flag = dict(enumerate(data_clean[\"flag\"].cat.categories))"
      ],
      "execution_count": 193,
      "outputs": []
    },
    {
      "cell_type": "code",
      "metadata": {
        "colab": {
          "base_uri": "https://localhost:8080/"
        },
        "id": "GSkN0mjI3dSg",
        "outputId": "8b6f9e93-6f63-413b-c1af-785820082f3a"
      },
      "source": [
        "data_clean[\"protocol_type\"] =data_clean[\"protocol_type\"].cat.codes\n",
        "data_clean[\"service\"] = data_clean[\"service\"].cat.codes\n",
        "data_clean[\"flag\"] = data_clean[\"flag\"].cat.codes"
      ],
      "execution_count": 194,
      "outputs": [
        {
          "output_type": "stream",
          "text": [
            "/usr/local/lib/python3.7/dist-packages/ipykernel_launcher.py:1: SettingWithCopyWarning: \n",
            "A value is trying to be set on a copy of a slice from a DataFrame.\n",
            "Try using .loc[row_indexer,col_indexer] = value instead\n",
            "\n",
            "See the caveats in the documentation: https://pandas.pydata.org/pandas-docs/stable/user_guide/indexing.html#returning-a-view-versus-a-copy\n",
            "  \"\"\"Entry point for launching an IPython kernel.\n",
            "/usr/local/lib/python3.7/dist-packages/ipykernel_launcher.py:2: SettingWithCopyWarning: \n",
            "A value is trying to be set on a copy of a slice from a DataFrame.\n",
            "Try using .loc[row_indexer,col_indexer] = value instead\n",
            "\n",
            "See the caveats in the documentation: https://pandas.pydata.org/pandas-docs/stable/user_guide/indexing.html#returning-a-view-versus-a-copy\n",
            "  \n",
            "/usr/local/lib/python3.7/dist-packages/ipykernel_launcher.py:3: SettingWithCopyWarning: \n",
            "A value is trying to be set on a copy of a slice from a DataFrame.\n",
            "Try using .loc[row_indexer,col_indexer] = value instead\n",
            "\n",
            "See the caveats in the documentation: https://pandas.pydata.org/pandas-docs/stable/user_guide/indexing.html#returning-a-view-versus-a-copy\n",
            "  This is separate from the ipykernel package so we can avoid doing imports until\n"
          ],
          "name": "stderr"
        }
      ]
    },
    {
      "cell_type": "code",
      "metadata": {
        "colab": {
          "base_uri": "https://localhost:8080/"
        },
        "id": "WXB1iRkLLfDj",
        "outputId": "5df065d4-e57f-4257-eecf-9b45f4eaee7a"
      },
      "source": [
        "dict_label"
      ],
      "execution_count": 195,
      "outputs": [
        {
          "output_type": "execute_result",
          "data": {
            "text/plain": [
              "{0: 'back',\n",
              " 1: 'buffer_overflow',\n",
              " 2: 'ftp_write',\n",
              " 3: 'guess_passwd',\n",
              " 4: 'imap',\n",
              " 5: 'ipsweep',\n",
              " 6: 'land',\n",
              " 7: 'loadmodule',\n",
              " 8: 'multihop',\n",
              " 9: 'neptune',\n",
              " 10: 'nmap',\n",
              " 11: 'normal',\n",
              " 12: 'perl',\n",
              " 13: 'phf',\n",
              " 14: 'pod',\n",
              " 15: 'portsweep',\n",
              " 16: 'rootkit',\n",
              " 17: 'satan',\n",
              " 18: 'smurf',\n",
              " 19: 'spy',\n",
              " 20: 'teardrop',\n",
              " 21: 'warezclient',\n",
              " 22: 'warezmaster'}"
            ]
          },
          "metadata": {
            "tags": []
          },
          "execution_count": 195
        }
      ]
    },
    {
      "cell_type": "code",
      "metadata": {
        "colab": {
          "base_uri": "https://localhost:8080/"
        },
        "id": "N8X1pcIG1YqC",
        "outputId": "447e0557-dbec-4659-da57-7fae36984935"
      },
      "source": [
        "data_clean[\"label\"] = data_clean[\"label\"].cat.codes"
      ],
      "execution_count": 196,
      "outputs": [
        {
          "output_type": "stream",
          "text": [
            "/usr/local/lib/python3.7/dist-packages/ipykernel_launcher.py:1: SettingWithCopyWarning: \n",
            "A value is trying to be set on a copy of a slice from a DataFrame.\n",
            "Try using .loc[row_indexer,col_indexer] = value instead\n",
            "\n",
            "See the caveats in the documentation: https://pandas.pydata.org/pandas-docs/stable/user_guide/indexing.html#returning-a-view-versus-a-copy\n",
            "  \"\"\"Entry point for launching an IPython kernel.\n"
          ],
          "name": "stderr"
        }
      ]
    },
    {
      "cell_type": "code",
      "metadata": {
        "id": "ew-Q0LlpLjOR"
      },
      "source": [
        "temp = []\n",
        "j = 0\n",
        "k = 0\n",
        "for i in data_clean[\"label\"]:\n",
        "    if i == 11:\n",
        "      i = 0\n",
        "    elif (i == 0) or (i == 6)or (i == 9) or (i==14) or (i ==18) or (i==20):\n",
        "      i = 1\n",
        "    elif (i == 5) or (i == 10)or (i == 15) or (i==17):\n",
        "      i = 2\n",
        "    elif (i == 1) or (i == 7)or (i == 12) or (i==16):\n",
        "      i = 4\n",
        "    else:\n",
        "      i = 3\n",
        "    temp.append(i)"
      ],
      "execution_count": 198,
      "outputs": []
    },
    {
      "cell_type": "code",
      "metadata": {
        "colab": {
          "base_uri": "https://localhost:8080/"
        },
        "id": "XA2rNwyaN1hB",
        "outputId": "23d2c43f-bee9-4ec5-db3d-70724a94dcf5"
      },
      "source": [
        "data_clean.drop(columns=[\"label\"], inplace=True)\n",
        "data_clean[\"label\"] = temp"
      ],
      "execution_count": 199,
      "outputs": [
        {
          "output_type": "stream",
          "text": [
            "/usr/local/lib/python3.7/dist-packages/pandas/core/frame.py:4174: SettingWithCopyWarning: \n",
            "A value is trying to be set on a copy of a slice from a DataFrame\n",
            "\n",
            "See the caveats in the documentation: https://pandas.pydata.org/pandas-docs/stable/user_guide/indexing.html#returning-a-view-versus-a-copy\n",
            "  errors=errors,\n",
            "/usr/local/lib/python3.7/dist-packages/ipykernel_launcher.py:2: SettingWithCopyWarning: \n",
            "A value is trying to be set on a copy of a slice from a DataFrame.\n",
            "Try using .loc[row_indexer,col_indexer] = value instead\n",
            "\n",
            "See the caveats in the documentation: https://pandas.pydata.org/pandas-docs/stable/user_guide/indexing.html#returning-a-view-versus-a-copy\n",
            "  \n"
          ],
          "name": "stderr"
        }
      ]
    },
    {
      "cell_type": "code",
      "metadata": {
        "id": "dSOKCL-GOKgn"
      },
      "source": [
        "dict_label = {\n",
        "    0:\"normal\",\n",
        "    1:\"dos\",\n",
        "    2:\"probe\",\n",
        "    3:\"r2l\",\n",
        "    4:\"u2r\"\n",
        "}"
      ],
      "execution_count": 200,
      "outputs": []
    },
    {
      "cell_type": "code",
      "metadata": {
        "colab": {
          "base_uri": "https://localhost:8080/"
        },
        "id": "omMy01tcGjU6",
        "outputId": "1070b13f-0a85-418c-f5c3-395ec253772c"
      },
      "source": [
        "data_clean[\"label\"]"
      ],
      "execution_count": 202,
      "outputs": [
        {
          "output_type": "execute_result",
          "data": {
            "text/plain": [
              "0         0\n",
              "1         0\n",
              "2         0\n",
              "3         0\n",
              "4         0\n",
              "         ..\n",
              "494015    0\n",
              "494016    0\n",
              "494017    0\n",
              "494018    0\n",
              "494019    0\n",
              "Name: label, Length: 145585, dtype: int64"
            ]
          },
          "metadata": {
            "tags": []
          },
          "execution_count": 202
        }
      ]
    },
    {
      "cell_type": "code",
      "metadata": {
        "colab": {
          "base_uri": "https://localhost:8080/"
        },
        "id": "-1H4xjOexHTR",
        "outputId": "989306ab-69ac-420b-90a8-35a8d7cef989"
      },
      "source": [
        "data_clean[\"protocol_type\"] =data_clean[\"protocol_type\"].astype('int')\n",
        "data_clean[\"service\"] = data_clean[\"service\"].astype('int')\n",
        "data_clean[\"flag\"] = data_clean[\"flag\"].astype('int')\n",
        "data_clean[\"label\"] = data_clean[\"label\"].astype('int')\n",
        "data_clean.dtypes"
      ],
      "execution_count": 203,
      "outputs": [
        {
          "output_type": "stream",
          "text": [
            "/usr/local/lib/python3.7/dist-packages/ipykernel_launcher.py:1: SettingWithCopyWarning: \n",
            "A value is trying to be set on a copy of a slice from a DataFrame.\n",
            "Try using .loc[row_indexer,col_indexer] = value instead\n",
            "\n",
            "See the caveats in the documentation: https://pandas.pydata.org/pandas-docs/stable/user_guide/indexing.html#returning-a-view-versus-a-copy\n",
            "  \"\"\"Entry point for launching an IPython kernel.\n",
            "/usr/local/lib/python3.7/dist-packages/ipykernel_launcher.py:2: SettingWithCopyWarning: \n",
            "A value is trying to be set on a copy of a slice from a DataFrame.\n",
            "Try using .loc[row_indexer,col_indexer] = value instead\n",
            "\n",
            "See the caveats in the documentation: https://pandas.pydata.org/pandas-docs/stable/user_guide/indexing.html#returning-a-view-versus-a-copy\n",
            "  \n",
            "/usr/local/lib/python3.7/dist-packages/ipykernel_launcher.py:3: SettingWithCopyWarning: \n",
            "A value is trying to be set on a copy of a slice from a DataFrame.\n",
            "Try using .loc[row_indexer,col_indexer] = value instead\n",
            "\n",
            "See the caveats in the documentation: https://pandas.pydata.org/pandas-docs/stable/user_guide/indexing.html#returning-a-view-versus-a-copy\n",
            "  This is separate from the ipykernel package so we can avoid doing imports until\n",
            "/usr/local/lib/python3.7/dist-packages/ipykernel_launcher.py:4: SettingWithCopyWarning: \n",
            "A value is trying to be set on a copy of a slice from a DataFrame.\n",
            "Try using .loc[row_indexer,col_indexer] = value instead\n",
            "\n",
            "See the caveats in the documentation: https://pandas.pydata.org/pandas-docs/stable/user_guide/indexing.html#returning-a-view-versus-a-copy\n",
            "  after removing the cwd from sys.path.\n"
          ],
          "name": "stderr"
        },
        {
          "output_type": "execute_result",
          "data": {
            "text/plain": [
              "duration                         int64\n",
              "protocol_type                    int64\n",
              "service                          int64\n",
              "flag                             int64\n",
              "src_bytes                        int64\n",
              "dst_bytes                        int64\n",
              "land                             int64\n",
              "wrong_fragment                   int64\n",
              "urgent                           int64\n",
              "hot                              int64\n",
              "num_failed_logins                int64\n",
              "logged_in                        int64\n",
              "lnum_compromised                 int64\n",
              "lroot_shell                      int64\n",
              "lsu_attempted                    int64\n",
              "lnum_root                        int64\n",
              "lnum_file_creations              int64\n",
              "lnum_shells                      int64\n",
              "lnum_access_files                int64\n",
              "lnum_outbound_cmds               int64\n",
              "is_host_login                    int64\n",
              "is_guest_login                   int64\n",
              "count                            int64\n",
              "srv_count                        int64\n",
              "serror_rate                    float64\n",
              "srv_serror_rate                float64\n",
              "rerror_rate                    float64\n",
              "srv_rerror_rate                float64\n",
              "same_srv_rate                  float64\n",
              "diff_srv_rate                  float64\n",
              "srv_diff_host_rate             float64\n",
              "dst_host_count                   int64\n",
              "dst_host_srv_count               int64\n",
              "dst_host_same_srv_rate         float64\n",
              "dst_host_diff_srv_rate         float64\n",
              "dst_host_same_src_port_rate    float64\n",
              "dst_host_srv_diff_host_rate    float64\n",
              "dst_host_serror_rate           float64\n",
              "dst_host_srv_serror_rate       float64\n",
              "dst_host_rerror_rate           float64\n",
              "dst_host_srv_rerror_rate       float64\n",
              "label                            int64\n",
              "dtype: object"
            ]
          },
          "metadata": {
            "tags": []
          },
          "execution_count": 203
        }
      ]
    },
    {
      "cell_type": "code",
      "metadata": {
        "colab": {
          "base_uri": "https://localhost:8080/"
        },
        "id": "F8im_X3XGdok",
        "outputId": "9caf09a5-864c-467a-dad1-b685ea0360d6"
      },
      "source": [
        "#data_clean[\"protocol_type\"] =data_clean[\"protocol_type\"].astype('string')\n",
        "#data_clean[\"service\"] = data_clean[\"service\"].astype('string')\n",
        "#data_clean[\"flag\"] = data_clean[\"flag\"].astype('string')"
      ],
      "execution_count": null,
      "outputs": [
        {
          "output_type": "stream",
          "text": [
            "/usr/local/lib/python3.7/dist-packages/ipykernel_launcher.py:1: SettingWithCopyWarning: \n",
            "A value is trying to be set on a copy of a slice from a DataFrame.\n",
            "Try using .loc[row_indexer,col_indexer] = value instead\n",
            "\n",
            "See the caveats in the documentation: https://pandas.pydata.org/pandas-docs/stable/user_guide/indexing.html#returning-a-view-versus-a-copy\n",
            "  \"\"\"Entry point for launching an IPython kernel.\n",
            "/usr/local/lib/python3.7/dist-packages/ipykernel_launcher.py:2: SettingWithCopyWarning: \n",
            "A value is trying to be set on a copy of a slice from a DataFrame.\n",
            "Try using .loc[row_indexer,col_indexer] = value instead\n",
            "\n",
            "See the caveats in the documentation: https://pandas.pydata.org/pandas-docs/stable/user_guide/indexing.html#returning-a-view-versus-a-copy\n",
            "  \n",
            "/usr/local/lib/python3.7/dist-packages/ipykernel_launcher.py:3: SettingWithCopyWarning: \n",
            "A value is trying to be set on a copy of a slice from a DataFrame.\n",
            "Try using .loc[row_indexer,col_indexer] = value instead\n",
            "\n",
            "See the caveats in the documentation: https://pandas.pydata.org/pandas-docs/stable/user_guide/indexing.html#returning-a-view-versus-a-copy\n",
            "  This is separate from the ipykernel package so we can avoid doing imports until\n"
          ],
          "name": "stderr"
        }
      ]
    },
    {
      "cell_type": "code",
      "metadata": {
        "colab": {
          "base_uri": "https://localhost:8080/"
        },
        "id": "5N3onDoJBsDI",
        "outputId": "2e1cc1bd-eda9-4613-cf09-284150798c05"
      },
      "source": [
        "data_clean[\"label\"]"
      ],
      "execution_count": 13,
      "outputs": [
        {
          "output_type": "execute_result",
          "data": {
            "text/plain": [
              "0         11\n",
              "1         11\n",
              "2         11\n",
              "3         11\n",
              "4         11\n",
              "          ..\n",
              "494015    11\n",
              "494016    11\n",
              "494017    11\n",
              "494018    11\n",
              "494019    11\n",
              "Name: label, Length: 145585, dtype: int64"
            ]
          },
          "metadata": {
            "tags": []
          },
          "execution_count": 13
        }
      ]
    },
    {
      "cell_type": "code",
      "metadata": {
        "id": "YZN_fQwuvvPT"
      },
      "source": [
        "X = data_clean.drop(columns=[\"label\"])\n",
        "Y = data_clean[\"label\"]\n"
      ],
      "execution_count": 204,
      "outputs": []
    },
    {
      "cell_type": "code",
      "metadata": {
        "id": "L60DtgzRMxmf"
      },
      "source": [
        "#nama = data_clean.drop(columns=[\"label\", \"protocol_type\", \"service\", \"flag\"])\n",
        "nama2 = data_clean.drop(columns=[\"label\"])"
      ],
      "execution_count": 205,
      "outputs": []
    },
    {
      "cell_type": "code",
      "metadata": {
        "colab": {
          "base_uri": "https://localhost:8080/"
        },
        "id": "tlTm0KCjOMTG",
        "outputId": "6b9f5f9e-a98a-4b9c-cca3-d51919048bbe"
      },
      "source": [
        "fitur = []\n",
        "for i in nama2.columns:\n",
        "  fitur.append(i)\n",
        "fitur"
      ],
      "execution_count": 206,
      "outputs": [
        {
          "output_type": "execute_result",
          "data": {
            "text/plain": [
              "['duration',\n",
              " 'protocol_type',\n",
              " 'service',\n",
              " 'flag',\n",
              " 'src_bytes',\n",
              " 'dst_bytes',\n",
              " 'land',\n",
              " 'wrong_fragment',\n",
              " 'urgent',\n",
              " 'hot',\n",
              " 'num_failed_logins',\n",
              " 'logged_in',\n",
              " 'lnum_compromised',\n",
              " 'lroot_shell',\n",
              " 'lsu_attempted',\n",
              " 'lnum_root',\n",
              " 'lnum_file_creations',\n",
              " 'lnum_shells',\n",
              " 'lnum_access_files',\n",
              " 'lnum_outbound_cmds',\n",
              " 'is_host_login',\n",
              " 'is_guest_login',\n",
              " 'count',\n",
              " 'srv_count',\n",
              " 'serror_rate',\n",
              " 'srv_serror_rate',\n",
              " 'rerror_rate',\n",
              " 'srv_rerror_rate',\n",
              " 'same_srv_rate',\n",
              " 'diff_srv_rate',\n",
              " 'srv_diff_host_rate',\n",
              " 'dst_host_count',\n",
              " 'dst_host_srv_count',\n",
              " 'dst_host_same_srv_rate',\n",
              " 'dst_host_diff_srv_rate',\n",
              " 'dst_host_same_src_port_rate',\n",
              " 'dst_host_srv_diff_host_rate',\n",
              " 'dst_host_serror_rate',\n",
              " 'dst_host_srv_serror_rate',\n",
              " 'dst_host_rerror_rate',\n",
              " 'dst_host_srv_rerror_rate']"
            ]
          },
          "metadata": {
            "tags": []
          },
          "execution_count": 206
        }
      ]
    },
    {
      "cell_type": "code",
      "metadata": {
        "colab": {
          "base_uri": "https://localhost:8080/"
        },
        "id": "VQ1BRByhuAt4",
        "outputId": "1332896d-e59e-4dce-9623-9774e573a58b"
      },
      "source": [
        "from sklearn.model_selection import train_test_split\n",
        "X_train, X_test, Y_train, Y_test = train_test_split(X, Y, test_size = 0.3, random_state = 5)\n",
        "print(X_train.shape)\n",
        "print(X_test.shape)"
      ],
      "execution_count": 207,
      "outputs": [
        {
          "output_type": "stream",
          "text": [
            "(101909, 41)\n",
            "(43676, 41)\n"
          ],
          "name": "stdout"
        }
      ]
    },
    {
      "cell_type": "code",
      "metadata": {
        "colab": {
          "base_uri": "https://localhost:8080/",
          "height": 444
        },
        "id": "VSu_peuXHoLr",
        "outputId": "715bd585-d984-4442-bd39-3a7946200256"
      },
      "source": [
        "#frame = {\"protocol_type\": data[\"protocol_type\"], \n",
        "#         'service': data[\"service\"], \n",
        "#         \"flag\": data[\"flag\"]}\n",
        "#data_cat = pd.DataFrame(frame)\n",
        "X_train"
      ],
      "execution_count": 208,
      "outputs": [
        {
          "output_type": "execute_result",
          "data": {
            "text/html": [
              "<div>\n",
              "<style scoped>\n",
              "    .dataframe tbody tr th:only-of-type {\n",
              "        vertical-align: middle;\n",
              "    }\n",
              "\n",
              "    .dataframe tbody tr th {\n",
              "        vertical-align: top;\n",
              "    }\n",
              "\n",
              "    .dataframe thead th {\n",
              "        text-align: right;\n",
              "    }\n",
              "</style>\n",
              "<table border=\"1\" class=\"dataframe\">\n",
              "  <thead>\n",
              "    <tr style=\"text-align: right;\">\n",
              "      <th></th>\n",
              "      <th>duration</th>\n",
              "      <th>protocol_type</th>\n",
              "      <th>service</th>\n",
              "      <th>flag</th>\n",
              "      <th>src_bytes</th>\n",
              "      <th>dst_bytes</th>\n",
              "      <th>land</th>\n",
              "      <th>wrong_fragment</th>\n",
              "      <th>urgent</th>\n",
              "      <th>hot</th>\n",
              "      <th>num_failed_logins</th>\n",
              "      <th>logged_in</th>\n",
              "      <th>lnum_compromised</th>\n",
              "      <th>lroot_shell</th>\n",
              "      <th>lsu_attempted</th>\n",
              "      <th>lnum_root</th>\n",
              "      <th>lnum_file_creations</th>\n",
              "      <th>lnum_shells</th>\n",
              "      <th>lnum_access_files</th>\n",
              "      <th>lnum_outbound_cmds</th>\n",
              "      <th>is_host_login</th>\n",
              "      <th>is_guest_login</th>\n",
              "      <th>count</th>\n",
              "      <th>srv_count</th>\n",
              "      <th>serror_rate</th>\n",
              "      <th>srv_serror_rate</th>\n",
              "      <th>rerror_rate</th>\n",
              "      <th>srv_rerror_rate</th>\n",
              "      <th>same_srv_rate</th>\n",
              "      <th>diff_srv_rate</th>\n",
              "      <th>srv_diff_host_rate</th>\n",
              "      <th>dst_host_count</th>\n",
              "      <th>dst_host_srv_count</th>\n",
              "      <th>dst_host_same_srv_rate</th>\n",
              "      <th>dst_host_diff_srv_rate</th>\n",
              "      <th>dst_host_same_src_port_rate</th>\n",
              "      <th>dst_host_srv_diff_host_rate</th>\n",
              "      <th>dst_host_serror_rate</th>\n",
              "      <th>dst_host_srv_serror_rate</th>\n",
              "      <th>dst_host_rerror_rate</th>\n",
              "      <th>dst_host_srv_rerror_rate</th>\n",
              "    </tr>\n",
              "  </thead>\n",
              "  <tbody>\n",
              "    <tr>\n",
              "      <th>361408</th>\n",
              "      <td>0</td>\n",
              "      <td>1</td>\n",
              "      <td>45</td>\n",
              "      <td>5</td>\n",
              "      <td>0</td>\n",
              "      <td>0</td>\n",
              "      <td>0</td>\n",
              "      <td>0</td>\n",
              "      <td>0</td>\n",
              "      <td>0</td>\n",
              "      <td>0</td>\n",
              "      <td>0</td>\n",
              "      <td>0</td>\n",
              "      <td>0</td>\n",
              "      <td>0</td>\n",
              "      <td>0</td>\n",
              "      <td>0</td>\n",
              "      <td>0</td>\n",
              "      <td>0</td>\n",
              "      <td>0</td>\n",
              "      <td>0</td>\n",
              "      <td>0</td>\n",
              "      <td>100</td>\n",
              "      <td>5</td>\n",
              "      <td>1.0</td>\n",
              "      <td>1.0</td>\n",
              "      <td>0.0</td>\n",
              "      <td>0.0</td>\n",
              "      <td>0.05</td>\n",
              "      <td>0.06</td>\n",
              "      <td>0.00</td>\n",
              "      <td>255</td>\n",
              "      <td>11</td>\n",
              "      <td>0.04</td>\n",
              "      <td>0.07</td>\n",
              "      <td>0.00</td>\n",
              "      <td>0.00</td>\n",
              "      <td>1.00</td>\n",
              "      <td>1.0</td>\n",
              "      <td>0.0</td>\n",
              "      <td>0.0</td>\n",
              "    </tr>\n",
              "    <tr>\n",
              "      <th>85540</th>\n",
              "      <td>0</td>\n",
              "      <td>1</td>\n",
              "      <td>22</td>\n",
              "      <td>9</td>\n",
              "      <td>151</td>\n",
              "      <td>3836</td>\n",
              "      <td>0</td>\n",
              "      <td>0</td>\n",
              "      <td>0</td>\n",
              "      <td>0</td>\n",
              "      <td>0</td>\n",
              "      <td>1</td>\n",
              "      <td>0</td>\n",
              "      <td>0</td>\n",
              "      <td>0</td>\n",
              "      <td>0</td>\n",
              "      <td>0</td>\n",
              "      <td>0</td>\n",
              "      <td>0</td>\n",
              "      <td>0</td>\n",
              "      <td>0</td>\n",
              "      <td>0</td>\n",
              "      <td>1</td>\n",
              "      <td>1</td>\n",
              "      <td>0.0</td>\n",
              "      <td>0.0</td>\n",
              "      <td>0.0</td>\n",
              "      <td>0.0</td>\n",
              "      <td>1.00</td>\n",
              "      <td>0.00</td>\n",
              "      <td>0.00</td>\n",
              "      <td>7</td>\n",
              "      <td>225</td>\n",
              "      <td>1.00</td>\n",
              "      <td>0.00</td>\n",
              "      <td>0.14</td>\n",
              "      <td>0.01</td>\n",
              "      <td>0.00</td>\n",
              "      <td>0.0</td>\n",
              "      <td>0.0</td>\n",
              "      <td>0.0</td>\n",
              "    </tr>\n",
              "    <tr>\n",
              "      <th>37646</th>\n",
              "      <td>0</td>\n",
              "      <td>1</td>\n",
              "      <td>22</td>\n",
              "      <td>9</td>\n",
              "      <td>209</td>\n",
              "      <td>339</td>\n",
              "      <td>0</td>\n",
              "      <td>0</td>\n",
              "      <td>0</td>\n",
              "      <td>0</td>\n",
              "      <td>0</td>\n",
              "      <td>1</td>\n",
              "      <td>0</td>\n",
              "      <td>0</td>\n",
              "      <td>0</td>\n",
              "      <td>0</td>\n",
              "      <td>0</td>\n",
              "      <td>0</td>\n",
              "      <td>0</td>\n",
              "      <td>0</td>\n",
              "      <td>0</td>\n",
              "      <td>0</td>\n",
              "      <td>12</td>\n",
              "      <td>14</td>\n",
              "      <td>0.0</td>\n",
              "      <td>0.0</td>\n",
              "      <td>0.0</td>\n",
              "      <td>0.0</td>\n",
              "      <td>1.00</td>\n",
              "      <td>0.00</td>\n",
              "      <td>0.21</td>\n",
              "      <td>32</td>\n",
              "      <td>255</td>\n",
              "      <td>1.00</td>\n",
              "      <td>0.00</td>\n",
              "      <td>0.03</td>\n",
              "      <td>0.02</td>\n",
              "      <td>0.00</td>\n",
              "      <td>0.0</td>\n",
              "      <td>0.0</td>\n",
              "      <td>0.0</td>\n",
              "    </tr>\n",
              "    <tr>\n",
              "      <th>86362</th>\n",
              "      <td>25</td>\n",
              "      <td>1</td>\n",
              "      <td>18</td>\n",
              "      <td>9</td>\n",
              "      <td>328</td>\n",
              "      <td>1072</td>\n",
              "      <td>0</td>\n",
              "      <td>0</td>\n",
              "      <td>0</td>\n",
              "      <td>6</td>\n",
              "      <td>0</td>\n",
              "      <td>1</td>\n",
              "      <td>0</td>\n",
              "      <td>0</td>\n",
              "      <td>0</td>\n",
              "      <td>0</td>\n",
              "      <td>0</td>\n",
              "      <td>0</td>\n",
              "      <td>0</td>\n",
              "      <td>0</td>\n",
              "      <td>0</td>\n",
              "      <td>1</td>\n",
              "      <td>1</td>\n",
              "      <td>1</td>\n",
              "      <td>0.0</td>\n",
              "      <td>0.0</td>\n",
              "      <td>0.0</td>\n",
              "      <td>0.0</td>\n",
              "      <td>1.00</td>\n",
              "      <td>0.00</td>\n",
              "      <td>0.00</td>\n",
              "      <td>91</td>\n",
              "      <td>29</td>\n",
              "      <td>0.32</td>\n",
              "      <td>0.07</td>\n",
              "      <td>0.01</td>\n",
              "      <td>0.00</td>\n",
              "      <td>0.01</td>\n",
              "      <td>0.0</td>\n",
              "      <td>0.0</td>\n",
              "      <td>0.0</td>\n",
              "    </tr>\n",
              "    <tr>\n",
              "      <th>90841</th>\n",
              "      <td>0</td>\n",
              "      <td>1</td>\n",
              "      <td>22</td>\n",
              "      <td>9</td>\n",
              "      <td>216</td>\n",
              "      <td>3750</td>\n",
              "      <td>0</td>\n",
              "      <td>0</td>\n",
              "      <td>0</td>\n",
              "      <td>0</td>\n",
              "      <td>0</td>\n",
              "      <td>1</td>\n",
              "      <td>0</td>\n",
              "      <td>0</td>\n",
              "      <td>0</td>\n",
              "      <td>0</td>\n",
              "      <td>0</td>\n",
              "      <td>0</td>\n",
              "      <td>0</td>\n",
              "      <td>0</td>\n",
              "      <td>0</td>\n",
              "      <td>0</td>\n",
              "      <td>4</td>\n",
              "      <td>4</td>\n",
              "      <td>0.0</td>\n",
              "      <td>0.0</td>\n",
              "      <td>0.0</td>\n",
              "      <td>0.0</td>\n",
              "      <td>1.00</td>\n",
              "      <td>0.00</td>\n",
              "      <td>0.00</td>\n",
              "      <td>111</td>\n",
              "      <td>255</td>\n",
              "      <td>1.00</td>\n",
              "      <td>0.00</td>\n",
              "      <td>0.01</td>\n",
              "      <td>0.01</td>\n",
              "      <td>0.00</td>\n",
              "      <td>0.0</td>\n",
              "      <td>0.0</td>\n",
              "      <td>0.0</td>\n",
              "    </tr>\n",
              "    <tr>\n",
              "      <th>...</th>\n",
              "      <td>...</td>\n",
              "      <td>...</td>\n",
              "      <td>...</td>\n",
              "      <td>...</td>\n",
              "      <td>...</td>\n",
              "      <td>...</td>\n",
              "      <td>...</td>\n",
              "      <td>...</td>\n",
              "      <td>...</td>\n",
              "      <td>...</td>\n",
              "      <td>...</td>\n",
              "      <td>...</td>\n",
              "      <td>...</td>\n",
              "      <td>...</td>\n",
              "      <td>...</td>\n",
              "      <td>...</td>\n",
              "      <td>...</td>\n",
              "      <td>...</td>\n",
              "      <td>...</td>\n",
              "      <td>...</td>\n",
              "      <td>...</td>\n",
              "      <td>...</td>\n",
              "      <td>...</td>\n",
              "      <td>...</td>\n",
              "      <td>...</td>\n",
              "      <td>...</td>\n",
              "      <td>...</td>\n",
              "      <td>...</td>\n",
              "      <td>...</td>\n",
              "      <td>...</td>\n",
              "      <td>...</td>\n",
              "      <td>...</td>\n",
              "      <td>...</td>\n",
              "      <td>...</td>\n",
              "      <td>...</td>\n",
              "      <td>...</td>\n",
              "      <td>...</td>\n",
              "      <td>...</td>\n",
              "      <td>...</td>\n",
              "      <td>...</td>\n",
              "      <td>...</td>\n",
              "    </tr>\n",
              "    <tr>\n",
              "      <th>451859</th>\n",
              "      <td>0</td>\n",
              "      <td>1</td>\n",
              "      <td>19</td>\n",
              "      <td>9</td>\n",
              "      <td>194</td>\n",
              "      <td>0</td>\n",
              "      <td>0</td>\n",
              "      <td>0</td>\n",
              "      <td>0</td>\n",
              "      <td>0</td>\n",
              "      <td>0</td>\n",
              "      <td>1</td>\n",
              "      <td>0</td>\n",
              "      <td>0</td>\n",
              "      <td>0</td>\n",
              "      <td>0</td>\n",
              "      <td>0</td>\n",
              "      <td>0</td>\n",
              "      <td>0</td>\n",
              "      <td>0</td>\n",
              "      <td>0</td>\n",
              "      <td>0</td>\n",
              "      <td>2</td>\n",
              "      <td>2</td>\n",
              "      <td>0.0</td>\n",
              "      <td>0.0</td>\n",
              "      <td>0.0</td>\n",
              "      <td>0.0</td>\n",
              "      <td>1.00</td>\n",
              "      <td>0.00</td>\n",
              "      <td>0.00</td>\n",
              "      <td>186</td>\n",
              "      <td>44</td>\n",
              "      <td>0.24</td>\n",
              "      <td>0.03</td>\n",
              "      <td>0.24</td>\n",
              "      <td>0.00</td>\n",
              "      <td>0.00</td>\n",
              "      <td>0.0</td>\n",
              "      <td>0.0</td>\n",
              "      <td>0.0</td>\n",
              "    </tr>\n",
              "    <tr>\n",
              "      <th>455951</th>\n",
              "      <td>0</td>\n",
              "      <td>1</td>\n",
              "      <td>19</td>\n",
              "      <td>9</td>\n",
              "      <td>748</td>\n",
              "      <td>0</td>\n",
              "      <td>0</td>\n",
              "      <td>0</td>\n",
              "      <td>0</td>\n",
              "      <td>0</td>\n",
              "      <td>0</td>\n",
              "      <td>1</td>\n",
              "      <td>0</td>\n",
              "      <td>0</td>\n",
              "      <td>0</td>\n",
              "      <td>9</td>\n",
              "      <td>0</td>\n",
              "      <td>0</td>\n",
              "      <td>0</td>\n",
              "      <td>0</td>\n",
              "      <td>0</td>\n",
              "      <td>0</td>\n",
              "      <td>1</td>\n",
              "      <td>1</td>\n",
              "      <td>0.0</td>\n",
              "      <td>0.0</td>\n",
              "      <td>0.0</td>\n",
              "      <td>0.0</td>\n",
              "      <td>1.00</td>\n",
              "      <td>0.00</td>\n",
              "      <td>0.00</td>\n",
              "      <td>205</td>\n",
              "      <td>35</td>\n",
              "      <td>0.17</td>\n",
              "      <td>0.02</td>\n",
              "      <td>0.17</td>\n",
              "      <td>0.00</td>\n",
              "      <td>0.00</td>\n",
              "      <td>0.0</td>\n",
              "      <td>0.0</td>\n",
              "      <td>0.0</td>\n",
              "    </tr>\n",
              "    <tr>\n",
              "      <th>24215</th>\n",
              "      <td>0</td>\n",
              "      <td>1</td>\n",
              "      <td>22</td>\n",
              "      <td>9</td>\n",
              "      <td>162</td>\n",
              "      <td>10529</td>\n",
              "      <td>0</td>\n",
              "      <td>0</td>\n",
              "      <td>0</td>\n",
              "      <td>0</td>\n",
              "      <td>0</td>\n",
              "      <td>1</td>\n",
              "      <td>0</td>\n",
              "      <td>0</td>\n",
              "      <td>0</td>\n",
              "      <td>0</td>\n",
              "      <td>0</td>\n",
              "      <td>0</td>\n",
              "      <td>0</td>\n",
              "      <td>0</td>\n",
              "      <td>0</td>\n",
              "      <td>0</td>\n",
              "      <td>3</td>\n",
              "      <td>3</td>\n",
              "      <td>0.0</td>\n",
              "      <td>0.0</td>\n",
              "      <td>0.0</td>\n",
              "      <td>0.0</td>\n",
              "      <td>1.00</td>\n",
              "      <td>0.00</td>\n",
              "      <td>0.00</td>\n",
              "      <td>37</td>\n",
              "      <td>255</td>\n",
              "      <td>1.00</td>\n",
              "      <td>0.00</td>\n",
              "      <td>0.03</td>\n",
              "      <td>0.04</td>\n",
              "      <td>0.00</td>\n",
              "      <td>0.0</td>\n",
              "      <td>0.0</td>\n",
              "      <td>0.0</td>\n",
              "    </tr>\n",
              "    <tr>\n",
              "      <th>22379</th>\n",
              "      <td>0</td>\n",
              "      <td>1</td>\n",
              "      <td>22</td>\n",
              "      <td>9</td>\n",
              "      <td>216</td>\n",
              "      <td>767</td>\n",
              "      <td>0</td>\n",
              "      <td>0</td>\n",
              "      <td>0</td>\n",
              "      <td>0</td>\n",
              "      <td>0</td>\n",
              "      <td>1</td>\n",
              "      <td>0</td>\n",
              "      <td>0</td>\n",
              "      <td>0</td>\n",
              "      <td>0</td>\n",
              "      <td>0</td>\n",
              "      <td>0</td>\n",
              "      <td>0</td>\n",
              "      <td>0</td>\n",
              "      <td>0</td>\n",
              "      <td>0</td>\n",
              "      <td>5</td>\n",
              "      <td>5</td>\n",
              "      <td>0.0</td>\n",
              "      <td>0.0</td>\n",
              "      <td>0.0</td>\n",
              "      <td>0.0</td>\n",
              "      <td>1.00</td>\n",
              "      <td>0.00</td>\n",
              "      <td>0.00</td>\n",
              "      <td>255</td>\n",
              "      <td>255</td>\n",
              "      <td>1.00</td>\n",
              "      <td>0.00</td>\n",
              "      <td>0.00</td>\n",
              "      <td>0.00</td>\n",
              "      <td>0.00</td>\n",
              "      <td>0.0</td>\n",
              "      <td>0.0</td>\n",
              "      <td>0.0</td>\n",
              "    </tr>\n",
              "    <tr>\n",
              "      <th>39552</th>\n",
              "      <td>0</td>\n",
              "      <td>1</td>\n",
              "      <td>50</td>\n",
              "      <td>9</td>\n",
              "      <td>952</td>\n",
              "      <td>329</td>\n",
              "      <td>0</td>\n",
              "      <td>0</td>\n",
              "      <td>0</td>\n",
              "      <td>0</td>\n",
              "      <td>0</td>\n",
              "      <td>1</td>\n",
              "      <td>0</td>\n",
              "      <td>0</td>\n",
              "      <td>0</td>\n",
              "      <td>0</td>\n",
              "      <td>0</td>\n",
              "      <td>0</td>\n",
              "      <td>0</td>\n",
              "      <td>0</td>\n",
              "      <td>0</td>\n",
              "      <td>0</td>\n",
              "      <td>1</td>\n",
              "      <td>1</td>\n",
              "      <td>0.0</td>\n",
              "      <td>0.0</td>\n",
              "      <td>0.0</td>\n",
              "      <td>0.0</td>\n",
              "      <td>1.00</td>\n",
              "      <td>0.00</td>\n",
              "      <td>0.00</td>\n",
              "      <td>4</td>\n",
              "      <td>61</td>\n",
              "      <td>1.00</td>\n",
              "      <td>0.00</td>\n",
              "      <td>0.25</td>\n",
              "      <td>0.03</td>\n",
              "      <td>0.00</td>\n",
              "      <td>0.0</td>\n",
              "      <td>0.0</td>\n",
              "      <td>0.0</td>\n",
              "    </tr>\n",
              "  </tbody>\n",
              "</table>\n",
              "<p>101909 rows × 41 columns</p>\n",
              "</div>"
            ],
            "text/plain": [
              "        duration  protocol_type  ...  dst_host_rerror_rate  dst_host_srv_rerror_rate\n",
              "361408         0              1  ...                   0.0                       0.0\n",
              "85540          0              1  ...                   0.0                       0.0\n",
              "37646          0              1  ...                   0.0                       0.0\n",
              "86362         25              1  ...                   0.0                       0.0\n",
              "90841          0              1  ...                   0.0                       0.0\n",
              "...          ...            ...  ...                   ...                       ...\n",
              "451859         0              1  ...                   0.0                       0.0\n",
              "455951         0              1  ...                   0.0                       0.0\n",
              "24215          0              1  ...                   0.0                       0.0\n",
              "22379          0              1  ...                   0.0                       0.0\n",
              "39552          0              1  ...                   0.0                       0.0\n",
              "\n",
              "[101909 rows x 41 columns]"
            ]
          },
          "metadata": {
            "tags": []
          },
          "execution_count": 208
        }
      ]
    },
    {
      "cell_type": "code",
      "metadata": {
        "id": "C9aSjrf3u2Bx"
      },
      "source": [
        "lgbm_train = lgb.Dataset(X_train, Y_train, free_raw_data=False)#, feature_name=fitur, categorical_feature=[\"protocol_type\", \"service\", \"flag\"])"
      ],
      "execution_count": 19,
      "outputs": []
    },
    {
      "cell_type": "code",
      "metadata": {
        "colab": {
          "base_uri": "https://localhost:8080/"
        },
        "id": "inVAjwX5SJ2I",
        "outputId": "c477dea1-8a78-434b-cc85-c425010d7afb"
      },
      "source": [
        "lgbm_train.construct()"
      ],
      "execution_count": 20,
      "outputs": [
        {
          "output_type": "execute_result",
          "data": {
            "text/plain": [
              "<lightgbm.basic.Dataset at 0x7f35085715d0>"
            ]
          },
          "metadata": {
            "tags": []
          },
          "execution_count": 20
        }
      ]
    },
    {
      "cell_type": "code",
      "metadata": {
        "colab": {
          "base_uri": "https://localhost:8080/"
        },
        "id": "kmeCp9Va1s-l",
        "outputId": "d4d8995b-0e97-4115-cdc0-aad34ab1566a"
      },
      "source": [
        "lgbm_train.set_categorical_feature([\"protocol_type\", \"service\", \"flag\"])\n",
        "lgbm_train.construct()"
      ],
      "execution_count": 21,
      "outputs": [
        {
          "output_type": "stream",
          "text": [
            "/usr/local/lib/python3.7/dist-packages/lightgbm/basic.py:1209: UserWarning: categorical_feature in Dataset is overridden.\n",
            "New categorical_feature is ['flag', 'protocol_type', 'service']\n",
            "  'New categorical_feature is {}'.format(sorted(list(categorical_feature))))\n"
          ],
          "name": "stderr"
        },
        {
          "output_type": "execute_result",
          "data": {
            "text/plain": [
              "<lightgbm.basic.Dataset at 0x7f35085715d0>"
            ]
          },
          "metadata": {
            "tags": []
          },
          "execution_count": 21
        }
      ]
    },
    {
      "cell_type": "code",
      "metadata": {
        "colab": {
          "base_uri": "https://localhost:8080/"
        },
        "id": "3w-SnS8mDhIq",
        "outputId": "7363202b-4f64-41b6-f927-d510a0df66d6"
      },
      "source": [
        "lgbm_train.set_feature_name(fitur)\n",
        "lgbm_train.construct()"
      ],
      "execution_count": 22,
      "outputs": [
        {
          "output_type": "execute_result",
          "data": {
            "text/plain": [
              "<lightgbm.basic.Dataset at 0x7f35085715d0>"
            ]
          },
          "metadata": {
            "tags": []
          },
          "execution_count": 22
        }
      ]
    },
    {
      "cell_type": "code",
      "metadata": {
        "colab": {
          "base_uri": "https://localhost:8080/",
          "height": 444
        },
        "id": "urVCzTAW27Zr",
        "outputId": "34e987f0-fe2d-4ed2-90ba-8507b5f4a65c"
      },
      "source": [
        "lgbm_train.get_data()"
      ],
      "execution_count": 23,
      "outputs": [
        {
          "output_type": "execute_result",
          "data": {
            "text/html": [
              "<div>\n",
              "<style scoped>\n",
              "    .dataframe tbody tr th:only-of-type {\n",
              "        vertical-align: middle;\n",
              "    }\n",
              "\n",
              "    .dataframe tbody tr th {\n",
              "        vertical-align: top;\n",
              "    }\n",
              "\n",
              "    .dataframe thead th {\n",
              "        text-align: right;\n",
              "    }\n",
              "</style>\n",
              "<table border=\"1\" class=\"dataframe\">\n",
              "  <thead>\n",
              "    <tr style=\"text-align: right;\">\n",
              "      <th></th>\n",
              "      <th>duration</th>\n",
              "      <th>protocol_type</th>\n",
              "      <th>service</th>\n",
              "      <th>flag</th>\n",
              "      <th>src_bytes</th>\n",
              "      <th>dst_bytes</th>\n",
              "      <th>land</th>\n",
              "      <th>wrong_fragment</th>\n",
              "      <th>urgent</th>\n",
              "      <th>hot</th>\n",
              "      <th>num_failed_logins</th>\n",
              "      <th>logged_in</th>\n",
              "      <th>lnum_compromised</th>\n",
              "      <th>lroot_shell</th>\n",
              "      <th>lsu_attempted</th>\n",
              "      <th>lnum_root</th>\n",
              "      <th>lnum_file_creations</th>\n",
              "      <th>lnum_shells</th>\n",
              "      <th>lnum_access_files</th>\n",
              "      <th>lnum_outbound_cmds</th>\n",
              "      <th>is_host_login</th>\n",
              "      <th>is_guest_login</th>\n",
              "      <th>count</th>\n",
              "      <th>srv_count</th>\n",
              "      <th>serror_rate</th>\n",
              "      <th>srv_serror_rate</th>\n",
              "      <th>rerror_rate</th>\n",
              "      <th>srv_rerror_rate</th>\n",
              "      <th>same_srv_rate</th>\n",
              "      <th>diff_srv_rate</th>\n",
              "      <th>srv_diff_host_rate</th>\n",
              "      <th>dst_host_count</th>\n",
              "      <th>dst_host_srv_count</th>\n",
              "      <th>dst_host_same_srv_rate</th>\n",
              "      <th>dst_host_diff_srv_rate</th>\n",
              "      <th>dst_host_same_src_port_rate</th>\n",
              "      <th>dst_host_srv_diff_host_rate</th>\n",
              "      <th>dst_host_serror_rate</th>\n",
              "      <th>dst_host_srv_serror_rate</th>\n",
              "      <th>dst_host_rerror_rate</th>\n",
              "      <th>dst_host_srv_rerror_rate</th>\n",
              "    </tr>\n",
              "  </thead>\n",
              "  <tbody>\n",
              "    <tr>\n",
              "      <th>361408</th>\n",
              "      <td>0</td>\n",
              "      <td>1</td>\n",
              "      <td>45</td>\n",
              "      <td>5</td>\n",
              "      <td>0</td>\n",
              "      <td>0</td>\n",
              "      <td>0</td>\n",
              "      <td>0</td>\n",
              "      <td>0</td>\n",
              "      <td>0</td>\n",
              "      <td>0</td>\n",
              "      <td>0</td>\n",
              "      <td>0</td>\n",
              "      <td>0</td>\n",
              "      <td>0</td>\n",
              "      <td>0</td>\n",
              "      <td>0</td>\n",
              "      <td>0</td>\n",
              "      <td>0</td>\n",
              "      <td>0</td>\n",
              "      <td>0</td>\n",
              "      <td>0</td>\n",
              "      <td>100</td>\n",
              "      <td>5</td>\n",
              "      <td>1.0</td>\n",
              "      <td>1.0</td>\n",
              "      <td>0.0</td>\n",
              "      <td>0.0</td>\n",
              "      <td>0.05</td>\n",
              "      <td>0.06</td>\n",
              "      <td>0.00</td>\n",
              "      <td>255</td>\n",
              "      <td>11</td>\n",
              "      <td>0.04</td>\n",
              "      <td>0.07</td>\n",
              "      <td>0.00</td>\n",
              "      <td>0.00</td>\n",
              "      <td>1.00</td>\n",
              "      <td>1.0</td>\n",
              "      <td>0.0</td>\n",
              "      <td>0.0</td>\n",
              "    </tr>\n",
              "    <tr>\n",
              "      <th>85540</th>\n",
              "      <td>0</td>\n",
              "      <td>1</td>\n",
              "      <td>22</td>\n",
              "      <td>9</td>\n",
              "      <td>151</td>\n",
              "      <td>3836</td>\n",
              "      <td>0</td>\n",
              "      <td>0</td>\n",
              "      <td>0</td>\n",
              "      <td>0</td>\n",
              "      <td>0</td>\n",
              "      <td>1</td>\n",
              "      <td>0</td>\n",
              "      <td>0</td>\n",
              "      <td>0</td>\n",
              "      <td>0</td>\n",
              "      <td>0</td>\n",
              "      <td>0</td>\n",
              "      <td>0</td>\n",
              "      <td>0</td>\n",
              "      <td>0</td>\n",
              "      <td>0</td>\n",
              "      <td>1</td>\n",
              "      <td>1</td>\n",
              "      <td>0.0</td>\n",
              "      <td>0.0</td>\n",
              "      <td>0.0</td>\n",
              "      <td>0.0</td>\n",
              "      <td>1.00</td>\n",
              "      <td>0.00</td>\n",
              "      <td>0.00</td>\n",
              "      <td>7</td>\n",
              "      <td>225</td>\n",
              "      <td>1.00</td>\n",
              "      <td>0.00</td>\n",
              "      <td>0.14</td>\n",
              "      <td>0.01</td>\n",
              "      <td>0.00</td>\n",
              "      <td>0.0</td>\n",
              "      <td>0.0</td>\n",
              "      <td>0.0</td>\n",
              "    </tr>\n",
              "    <tr>\n",
              "      <th>37646</th>\n",
              "      <td>0</td>\n",
              "      <td>1</td>\n",
              "      <td>22</td>\n",
              "      <td>9</td>\n",
              "      <td>209</td>\n",
              "      <td>339</td>\n",
              "      <td>0</td>\n",
              "      <td>0</td>\n",
              "      <td>0</td>\n",
              "      <td>0</td>\n",
              "      <td>0</td>\n",
              "      <td>1</td>\n",
              "      <td>0</td>\n",
              "      <td>0</td>\n",
              "      <td>0</td>\n",
              "      <td>0</td>\n",
              "      <td>0</td>\n",
              "      <td>0</td>\n",
              "      <td>0</td>\n",
              "      <td>0</td>\n",
              "      <td>0</td>\n",
              "      <td>0</td>\n",
              "      <td>12</td>\n",
              "      <td>14</td>\n",
              "      <td>0.0</td>\n",
              "      <td>0.0</td>\n",
              "      <td>0.0</td>\n",
              "      <td>0.0</td>\n",
              "      <td>1.00</td>\n",
              "      <td>0.00</td>\n",
              "      <td>0.21</td>\n",
              "      <td>32</td>\n",
              "      <td>255</td>\n",
              "      <td>1.00</td>\n",
              "      <td>0.00</td>\n",
              "      <td>0.03</td>\n",
              "      <td>0.02</td>\n",
              "      <td>0.00</td>\n",
              "      <td>0.0</td>\n",
              "      <td>0.0</td>\n",
              "      <td>0.0</td>\n",
              "    </tr>\n",
              "    <tr>\n",
              "      <th>86362</th>\n",
              "      <td>25</td>\n",
              "      <td>1</td>\n",
              "      <td>18</td>\n",
              "      <td>9</td>\n",
              "      <td>328</td>\n",
              "      <td>1072</td>\n",
              "      <td>0</td>\n",
              "      <td>0</td>\n",
              "      <td>0</td>\n",
              "      <td>6</td>\n",
              "      <td>0</td>\n",
              "      <td>1</td>\n",
              "      <td>0</td>\n",
              "      <td>0</td>\n",
              "      <td>0</td>\n",
              "      <td>0</td>\n",
              "      <td>0</td>\n",
              "      <td>0</td>\n",
              "      <td>0</td>\n",
              "      <td>0</td>\n",
              "      <td>0</td>\n",
              "      <td>1</td>\n",
              "      <td>1</td>\n",
              "      <td>1</td>\n",
              "      <td>0.0</td>\n",
              "      <td>0.0</td>\n",
              "      <td>0.0</td>\n",
              "      <td>0.0</td>\n",
              "      <td>1.00</td>\n",
              "      <td>0.00</td>\n",
              "      <td>0.00</td>\n",
              "      <td>91</td>\n",
              "      <td>29</td>\n",
              "      <td>0.32</td>\n",
              "      <td>0.07</td>\n",
              "      <td>0.01</td>\n",
              "      <td>0.00</td>\n",
              "      <td>0.01</td>\n",
              "      <td>0.0</td>\n",
              "      <td>0.0</td>\n",
              "      <td>0.0</td>\n",
              "    </tr>\n",
              "    <tr>\n",
              "      <th>90841</th>\n",
              "      <td>0</td>\n",
              "      <td>1</td>\n",
              "      <td>22</td>\n",
              "      <td>9</td>\n",
              "      <td>216</td>\n",
              "      <td>3750</td>\n",
              "      <td>0</td>\n",
              "      <td>0</td>\n",
              "      <td>0</td>\n",
              "      <td>0</td>\n",
              "      <td>0</td>\n",
              "      <td>1</td>\n",
              "      <td>0</td>\n",
              "      <td>0</td>\n",
              "      <td>0</td>\n",
              "      <td>0</td>\n",
              "      <td>0</td>\n",
              "      <td>0</td>\n",
              "      <td>0</td>\n",
              "      <td>0</td>\n",
              "      <td>0</td>\n",
              "      <td>0</td>\n",
              "      <td>4</td>\n",
              "      <td>4</td>\n",
              "      <td>0.0</td>\n",
              "      <td>0.0</td>\n",
              "      <td>0.0</td>\n",
              "      <td>0.0</td>\n",
              "      <td>1.00</td>\n",
              "      <td>0.00</td>\n",
              "      <td>0.00</td>\n",
              "      <td>111</td>\n",
              "      <td>255</td>\n",
              "      <td>1.00</td>\n",
              "      <td>0.00</td>\n",
              "      <td>0.01</td>\n",
              "      <td>0.01</td>\n",
              "      <td>0.00</td>\n",
              "      <td>0.0</td>\n",
              "      <td>0.0</td>\n",
              "      <td>0.0</td>\n",
              "    </tr>\n",
              "    <tr>\n",
              "      <th>...</th>\n",
              "      <td>...</td>\n",
              "      <td>...</td>\n",
              "      <td>...</td>\n",
              "      <td>...</td>\n",
              "      <td>...</td>\n",
              "      <td>...</td>\n",
              "      <td>...</td>\n",
              "      <td>...</td>\n",
              "      <td>...</td>\n",
              "      <td>...</td>\n",
              "      <td>...</td>\n",
              "      <td>...</td>\n",
              "      <td>...</td>\n",
              "      <td>...</td>\n",
              "      <td>...</td>\n",
              "      <td>...</td>\n",
              "      <td>...</td>\n",
              "      <td>...</td>\n",
              "      <td>...</td>\n",
              "      <td>...</td>\n",
              "      <td>...</td>\n",
              "      <td>...</td>\n",
              "      <td>...</td>\n",
              "      <td>...</td>\n",
              "      <td>...</td>\n",
              "      <td>...</td>\n",
              "      <td>...</td>\n",
              "      <td>...</td>\n",
              "      <td>...</td>\n",
              "      <td>...</td>\n",
              "      <td>...</td>\n",
              "      <td>...</td>\n",
              "      <td>...</td>\n",
              "      <td>...</td>\n",
              "      <td>...</td>\n",
              "      <td>...</td>\n",
              "      <td>...</td>\n",
              "      <td>...</td>\n",
              "      <td>...</td>\n",
              "      <td>...</td>\n",
              "      <td>...</td>\n",
              "    </tr>\n",
              "    <tr>\n",
              "      <th>451859</th>\n",
              "      <td>0</td>\n",
              "      <td>1</td>\n",
              "      <td>19</td>\n",
              "      <td>9</td>\n",
              "      <td>194</td>\n",
              "      <td>0</td>\n",
              "      <td>0</td>\n",
              "      <td>0</td>\n",
              "      <td>0</td>\n",
              "      <td>0</td>\n",
              "      <td>0</td>\n",
              "      <td>1</td>\n",
              "      <td>0</td>\n",
              "      <td>0</td>\n",
              "      <td>0</td>\n",
              "      <td>0</td>\n",
              "      <td>0</td>\n",
              "      <td>0</td>\n",
              "      <td>0</td>\n",
              "      <td>0</td>\n",
              "      <td>0</td>\n",
              "      <td>0</td>\n",
              "      <td>2</td>\n",
              "      <td>2</td>\n",
              "      <td>0.0</td>\n",
              "      <td>0.0</td>\n",
              "      <td>0.0</td>\n",
              "      <td>0.0</td>\n",
              "      <td>1.00</td>\n",
              "      <td>0.00</td>\n",
              "      <td>0.00</td>\n",
              "      <td>186</td>\n",
              "      <td>44</td>\n",
              "      <td>0.24</td>\n",
              "      <td>0.03</td>\n",
              "      <td>0.24</td>\n",
              "      <td>0.00</td>\n",
              "      <td>0.00</td>\n",
              "      <td>0.0</td>\n",
              "      <td>0.0</td>\n",
              "      <td>0.0</td>\n",
              "    </tr>\n",
              "    <tr>\n",
              "      <th>455951</th>\n",
              "      <td>0</td>\n",
              "      <td>1</td>\n",
              "      <td>19</td>\n",
              "      <td>9</td>\n",
              "      <td>748</td>\n",
              "      <td>0</td>\n",
              "      <td>0</td>\n",
              "      <td>0</td>\n",
              "      <td>0</td>\n",
              "      <td>0</td>\n",
              "      <td>0</td>\n",
              "      <td>1</td>\n",
              "      <td>0</td>\n",
              "      <td>0</td>\n",
              "      <td>0</td>\n",
              "      <td>9</td>\n",
              "      <td>0</td>\n",
              "      <td>0</td>\n",
              "      <td>0</td>\n",
              "      <td>0</td>\n",
              "      <td>0</td>\n",
              "      <td>0</td>\n",
              "      <td>1</td>\n",
              "      <td>1</td>\n",
              "      <td>0.0</td>\n",
              "      <td>0.0</td>\n",
              "      <td>0.0</td>\n",
              "      <td>0.0</td>\n",
              "      <td>1.00</td>\n",
              "      <td>0.00</td>\n",
              "      <td>0.00</td>\n",
              "      <td>205</td>\n",
              "      <td>35</td>\n",
              "      <td>0.17</td>\n",
              "      <td>0.02</td>\n",
              "      <td>0.17</td>\n",
              "      <td>0.00</td>\n",
              "      <td>0.00</td>\n",
              "      <td>0.0</td>\n",
              "      <td>0.0</td>\n",
              "      <td>0.0</td>\n",
              "    </tr>\n",
              "    <tr>\n",
              "      <th>24215</th>\n",
              "      <td>0</td>\n",
              "      <td>1</td>\n",
              "      <td>22</td>\n",
              "      <td>9</td>\n",
              "      <td>162</td>\n",
              "      <td>10529</td>\n",
              "      <td>0</td>\n",
              "      <td>0</td>\n",
              "      <td>0</td>\n",
              "      <td>0</td>\n",
              "      <td>0</td>\n",
              "      <td>1</td>\n",
              "      <td>0</td>\n",
              "      <td>0</td>\n",
              "      <td>0</td>\n",
              "      <td>0</td>\n",
              "      <td>0</td>\n",
              "      <td>0</td>\n",
              "      <td>0</td>\n",
              "      <td>0</td>\n",
              "      <td>0</td>\n",
              "      <td>0</td>\n",
              "      <td>3</td>\n",
              "      <td>3</td>\n",
              "      <td>0.0</td>\n",
              "      <td>0.0</td>\n",
              "      <td>0.0</td>\n",
              "      <td>0.0</td>\n",
              "      <td>1.00</td>\n",
              "      <td>0.00</td>\n",
              "      <td>0.00</td>\n",
              "      <td>37</td>\n",
              "      <td>255</td>\n",
              "      <td>1.00</td>\n",
              "      <td>0.00</td>\n",
              "      <td>0.03</td>\n",
              "      <td>0.04</td>\n",
              "      <td>0.00</td>\n",
              "      <td>0.0</td>\n",
              "      <td>0.0</td>\n",
              "      <td>0.0</td>\n",
              "    </tr>\n",
              "    <tr>\n",
              "      <th>22379</th>\n",
              "      <td>0</td>\n",
              "      <td>1</td>\n",
              "      <td>22</td>\n",
              "      <td>9</td>\n",
              "      <td>216</td>\n",
              "      <td>767</td>\n",
              "      <td>0</td>\n",
              "      <td>0</td>\n",
              "      <td>0</td>\n",
              "      <td>0</td>\n",
              "      <td>0</td>\n",
              "      <td>1</td>\n",
              "      <td>0</td>\n",
              "      <td>0</td>\n",
              "      <td>0</td>\n",
              "      <td>0</td>\n",
              "      <td>0</td>\n",
              "      <td>0</td>\n",
              "      <td>0</td>\n",
              "      <td>0</td>\n",
              "      <td>0</td>\n",
              "      <td>0</td>\n",
              "      <td>5</td>\n",
              "      <td>5</td>\n",
              "      <td>0.0</td>\n",
              "      <td>0.0</td>\n",
              "      <td>0.0</td>\n",
              "      <td>0.0</td>\n",
              "      <td>1.00</td>\n",
              "      <td>0.00</td>\n",
              "      <td>0.00</td>\n",
              "      <td>255</td>\n",
              "      <td>255</td>\n",
              "      <td>1.00</td>\n",
              "      <td>0.00</td>\n",
              "      <td>0.00</td>\n",
              "      <td>0.00</td>\n",
              "      <td>0.00</td>\n",
              "      <td>0.0</td>\n",
              "      <td>0.0</td>\n",
              "      <td>0.0</td>\n",
              "    </tr>\n",
              "    <tr>\n",
              "      <th>39552</th>\n",
              "      <td>0</td>\n",
              "      <td>1</td>\n",
              "      <td>50</td>\n",
              "      <td>9</td>\n",
              "      <td>952</td>\n",
              "      <td>329</td>\n",
              "      <td>0</td>\n",
              "      <td>0</td>\n",
              "      <td>0</td>\n",
              "      <td>0</td>\n",
              "      <td>0</td>\n",
              "      <td>1</td>\n",
              "      <td>0</td>\n",
              "      <td>0</td>\n",
              "      <td>0</td>\n",
              "      <td>0</td>\n",
              "      <td>0</td>\n",
              "      <td>0</td>\n",
              "      <td>0</td>\n",
              "      <td>0</td>\n",
              "      <td>0</td>\n",
              "      <td>0</td>\n",
              "      <td>1</td>\n",
              "      <td>1</td>\n",
              "      <td>0.0</td>\n",
              "      <td>0.0</td>\n",
              "      <td>0.0</td>\n",
              "      <td>0.0</td>\n",
              "      <td>1.00</td>\n",
              "      <td>0.00</td>\n",
              "      <td>0.00</td>\n",
              "      <td>4</td>\n",
              "      <td>61</td>\n",
              "      <td>1.00</td>\n",
              "      <td>0.00</td>\n",
              "      <td>0.25</td>\n",
              "      <td>0.03</td>\n",
              "      <td>0.00</td>\n",
              "      <td>0.0</td>\n",
              "      <td>0.0</td>\n",
              "      <td>0.0</td>\n",
              "    </tr>\n",
              "  </tbody>\n",
              "</table>\n",
              "<p>101909 rows × 41 columns</p>\n",
              "</div>"
            ],
            "text/plain": [
              "        duration  protocol_type  ...  dst_host_rerror_rate  dst_host_srv_rerror_rate\n",
              "361408         0              1  ...                   0.0                       0.0\n",
              "85540          0              1  ...                   0.0                       0.0\n",
              "37646          0              1  ...                   0.0                       0.0\n",
              "86362         25              1  ...                   0.0                       0.0\n",
              "90841          0              1  ...                   0.0                       0.0\n",
              "...          ...            ...  ...                   ...                       ...\n",
              "451859         0              1  ...                   0.0                       0.0\n",
              "455951         0              1  ...                   0.0                       0.0\n",
              "24215          0              1  ...                   0.0                       0.0\n",
              "22379          0              1  ...                   0.0                       0.0\n",
              "39552          0              1  ...                   0.0                       0.0\n",
              "\n",
              "[101909 rows x 41 columns]"
            ]
          },
          "metadata": {
            "tags": []
          },
          "execution_count": 23
        }
      ]
    },
    {
      "cell_type": "code",
      "metadata": {
        "id": "KduosQn3xk8i"
      },
      "source": [
        "parameters = {\n",
        "    #\"num_leaves\":8,\n",
        "    \"n_estimators\": 3,\n",
        "    \"max_depth\":3,\n",
        "    \"random_state\": 43\n",
        "}"
      ],
      "execution_count": 209,
      "outputs": []
    },
    {
      "cell_type": "code",
      "metadata": {
        "colab": {
          "base_uri": "https://localhost:8080/"
        },
        "id": "PlCVR9fkxqLK",
        "outputId": "8b60bf8e-39e3-43fe-a901-dc8e4c8f5030"
      },
      "source": [
        "model = lgb.train(parameters,train_set = lgbm_train)\n"
      ],
      "execution_count": 25,
      "outputs": [
        {
          "output_type": "stream",
          "text": [
            "/usr/local/lib/python3.7/dist-packages/lightgbm/engine.py:118: UserWarning: Found `n_estimators` in params. Will use it instead of argument\n",
            "  warnings.warn(\"Found `{}` in params. Will use it instead of argument\".format(alias))\n",
            "/usr/local/lib/python3.7/dist-packages/lightgbm/basic.py:1205: UserWarning: Using categorical_feature in Dataset.\n",
            "  warnings.warn('Using categorical_feature in Dataset.')\n"
          ],
          "name": "stderr"
        }
      ]
    },
    {
      "cell_type": "code",
      "metadata": {
        "id": "_8uZ5p0kJk9M"
      },
      "source": [
        "clf = lgb.LGBMClassifier(#boosting_type=\"goss\", \n",
        "                         #n_estimators =  3, \n",
        "                         #max_depth = 3, \n",
        "\n",
        "                         random_state = 43, \n",
        "                         objective=\"multiclass\")"
      ],
      "execution_count": 236,
      "outputs": []
    },
    {
      "cell_type": "code",
      "metadata": {
        "colab": {
          "base_uri": "https://localhost:8080/"
        },
        "id": "cFfZ8T_9KPRV",
        "outputId": "c259d5d8-1b07-4935-fb32-7b1725240236"
      },
      "source": [
        "model2 = clf.fit(X_train, Y_train, feature_name=fitur, categorical_feature=[\"protocol_type\", \"service\", \"flag\"])"
      ],
      "execution_count": 237,
      "outputs": [
        {
          "output_type": "stream",
          "text": [
            "/usr/local/lib/python3.7/dist-packages/lightgbm/basic.py:1209: UserWarning: categorical_feature in Dataset is overridden.\n",
            "New categorical_feature is ['flag', 'protocol_type', 'service']\n",
            "  'New categorical_feature is {}'.format(sorted(list(categorical_feature))))\n"
          ],
          "name": "stderr"
        }
      ]
    },
    {
      "cell_type": "code",
      "metadata": {
        "id": "cuXs02KJ5LnV"
      },
      "source": [
        "pred = model.predict(X_test, raw_score=True)\n",
        "pred2 = model2.predict(X_test)"
      ],
      "execution_count": 238,
      "outputs": []
    },
    {
      "cell_type": "code",
      "metadata": {
        "id": "zFO_F4SlXwqh"
      },
      "source": [
        "pred2_prob = model2.predict_proba(X_test)"
      ],
      "execution_count": 239,
      "outputs": []
    },
    {
      "cell_type": "code",
      "metadata": {
        "id": "TD5BP0zQfJsK"
      },
      "source": [
        "pred2_prob_raw = model2.predict_proba(X_test, raw_score=True)"
      ],
      "execution_count": 240,
      "outputs": []
    },
    {
      "cell_type": "code",
      "metadata": {
        "colab": {
          "base_uri": "https://localhost:8080/"
        },
        "id": "RRP1TSdCN5xw",
        "outputId": "295531c6-4705-491e-f82a-b66bce4e9a2b"
      },
      "source": [
        "from sklearn.metrics import precision_score\n",
        "from sklearn.metrics import accuracy_score\n",
        "from sklearn.metrics import classification_report\n",
        "\n",
        "precision = precision_score(Y_test, pred2, average=\"weighted\")\n",
        "acc = accuracy_score(Y_test, pred2)\n",
        "report = classification_report(Y_test, pred2)\n",
        "\n",
        "print(\"Precision  =\",precision)\n",
        "print(\"Accuracy   =\",acc)\n",
        "print(\"\")\n",
        "print(report)"
      ],
      "execution_count": 250,
      "outputs": [
        {
          "output_type": "stream",
          "text": [
            "Precision  = 0.9871280659082851\n",
            "Accuracy   = 0.9855756021613701\n",
            "\n",
            "              precision    recall  f1-score   support\n",
            "\n",
            "           0       0.99      0.99      0.99     26384\n",
            "           1       0.99      0.99      0.99     16344\n",
            "           2       0.85      0.83      0.84       625\n",
            "           3       0.59      0.78      0.67       302\n",
            "           4       0.15      0.38      0.21        21\n",
            "\n",
            "    accuracy                           0.99     43676\n",
            "   macro avg       0.71      0.80      0.74     43676\n",
            "weighted avg       0.99      0.99      0.99     43676\n",
            "\n"
          ],
          "name": "stdout"
        }
      ]
    },
    {
      "cell_type": "code",
      "metadata": {
        "colab": {
          "base_uri": "https://localhost:8080/"
        },
        "id": "p3rVlAb3VnBP",
        "outputId": "6b3850b8-8141-448e-f270-4ab752b0c1be"
      },
      "source": [
        "from sklearn.metrics import multilabel_confusion_matrix\n",
        "\n",
        "multi_cm = multilabel_confusion_matrix(Y_test, pred2, labels=clf.classes_)\n",
        "print(multi_cm)"
      ],
      "execution_count": 252,
      "outputs": [
        {
          "output_type": "stream",
          "text": [
            "[[[17118   174]\n",
            "  [  332 26052]]\n",
            "\n",
            " [[27179   153]\n",
            "  [  115 16229]]\n",
            "\n",
            " [[42962    89]\n",
            "  [  105   520]]\n",
            "\n",
            " [[43206   168]\n",
            "  [   65   237]]\n",
            "\n",
            " [[43609    46]\n",
            "  [   13     8]]]\n"
          ],
          "name": "stdout"
        }
      ]
    },
    {
      "cell_type": "code",
      "metadata": {
        "id": "aqk0rzyWWFVf"
      },
      "source": [
        "normal_cm = multi_cm[0,]\n",
        "dos_cm    = multi_cm[1,]\n",
        "probe_cm  = multi_cm[2,]\n",
        "r2l_cm    = multi_cm[3,]\n",
        "u2r_cm    = multi_cm[4,]"
      ],
      "execution_count": 257,
      "outputs": []
    },
    {
      "cell_type": "code",
      "metadata": {
        "colab": {
          "base_uri": "https://localhost:8080/"
        },
        "id": "cq2GIEBVbn6u",
        "outputId": "07db3cda-c344-404a-ab2f-30aa1529d011"
      },
      "source": [
        "\n"
      ],
      "execution_count": 283,
      "outputs": [
        {
          "output_type": "execute_result",
          "data": {
            "text/plain": [
              "0.9884146899899258"
            ]
          },
          "metadata": {
            "tags": []
          },
          "execution_count": 283
        }
      ]
    },
    {
      "cell_type": "code",
      "metadata": {
        "colab": {
          "base_uri": "https://localhost:8080/"
        },
        "id": "_KjnpLm2XIhm",
        "outputId": "366c7a23-d510-4489-8c30-f07b9424d83a"
      },
      "source": [
        "i = 0\n",
        "for i in range(0,5):\n",
        "  tn, fp, fn, tp = multi_cm[i,].ravel()\n",
        "  acc = (tp + tn)/(tn + fp + fn + tp)\n",
        "  tpr = (tp) / (tp + fn)\n",
        "  fpr = (fp) / (tp + fn)\n",
        "  if i == 0:\n",
        "    print(\"Akurasi Normal =\",acc)\n",
        "    print(\"TPR Normal     =\",tpr)\n",
        "    print(\"FPR Normal     =\",fpr)\n",
        "  elif i == 1:\n",
        "    print(\"Akurasi Dos =\",acc)\n",
        "    print(\"TPR Dos     =\",tpr)\n",
        "    print(\"FPR Dos     =\",fpr)\n",
        "  elif i == 2:\n",
        "    print(\"Akurasi Probe =\",acc)\n",
        "    print(\"TPR Probe     =\",tpr)\n",
        "    print(\"FPR Probe     =\",fpr)\n",
        "  elif i == 3:\n",
        "    print(\"Akurasi R2L =\",acc)\n",
        "    print(\"TPR R2L     =\",tpr)\n",
        "    print(\"FPR R2L     =\",fpr)\n",
        "  elif i == 4:\n",
        "    print(\"Akurasi U2R =\",acc)\n",
        "    print(\"TPR U2R     =\",tpr)\n",
        "    print(\"FPR U2R     =\",fpr)\n",
        "  print(\"\")"
      ],
      "execution_count": 287,
      "outputs": [
        {
          "output_type": "stream",
          "text": [
            "Akurasi Normal = 0.9884146899899258\n",
            "TPR Normal     = 0.9874166161309885\n",
            "FPR Normal     = 0.006594906003638569\n",
            "\n",
            "Akurasi Dos = 0.993863906951186\n",
            "TPR Dos     = 0.9929637787567303\n",
            "FPR Dos     = 0.009361233480176211\n",
            "\n",
            "Akurasi Probe = 0.9955582013004854\n",
            "TPR Probe     = 0.832\n",
            "FPR Probe     = 0.1424\n",
            "\n",
            "Akurasi R2L = 0.9946652623866654\n",
            "TPR R2L     = 0.7847682119205298\n",
            "FPR R2L     = 0.5562913907284768\n",
            "\n",
            "Akurasi U2R = 0.9986491436944775\n",
            "TPR U2R     = 0.38095238095238093\n",
            "FPR U2R     = 2.1904761904761907\n",
            "\n"
          ],
          "name": "stdout"
        }
      ]
    },
    {
      "cell_type": "code",
      "metadata": {
        "id": "sjWkkeryd-6T"
      },
      "source": [
        ""
      ],
      "execution_count": null,
      "outputs": []
    },
    {
      "cell_type": "code",
      "metadata": {
        "colab": {
          "base_uri": "https://localhost:8080/"
        },
        "id": "8scsymIhSD1w",
        "outputId": "5cc000c0-3335-4183-eec0-bf6968188955"
      },
      "source": [
        "clf.feature_importances_"
      ],
      "execution_count": 288,
      "outputs": [
        {
          "output_type": "execute_result",
          "data": {
            "text/plain": [
              "array([ 791,  299,  254,   74, 1989,  931,    0,  170,    0,  358,   45,\n",
              "         99,   86,   61,    0,  100,  223,    3,   87,    0,    0,   15,\n",
              "        985,  633,  176,   82,  183,   72,  405,  460,  178,  873, 1271,\n",
              "        637,  781,  752,  697,  347,  195,  485,  203])"
            ]
          },
          "metadata": {
            "tags": []
          },
          "execution_count": 288
        }
      ]
    },
    {
      "cell_type": "code",
      "metadata": {
        "id": "7jc5RztQ5RIf"
      },
      "source": [
        "from sklearn.metrics import confusion_matrix, ConfusionMatrixDisplay\n",
        "cm = confusion_matrix(Y_test, pred2, labels=clf.classes_)\n",
        "disp = ConfusionMatrixDisplay(confusion_matrix=cm, display_labels=clf.classes_)"
      ],
      "execution_count": 246,
      "outputs": []
    },
    {
      "cell_type": "code",
      "metadata": {
        "colab": {
          "base_uri": "https://localhost:8080/"
        },
        "id": "DY94se8jWbiS",
        "outputId": "0c434efc-d5c3-4ec0-c4f1-d4d86f53b2ba"
      },
      "source": [
        "cm"
      ],
      "execution_count": 256,
      "outputs": [
        {
          "output_type": "execute_result",
          "data": {
            "text/plain": [
              "array([[26052,   116,    56,   133,    27],\n",
              "       [   54, 16229,    28,    24,     9],\n",
              "       [   67,    25,   520,     7,     6],\n",
              "       [   47,    12,     2,   237,     4],\n",
              "       [    6,     0,     3,     4,     8]])"
            ]
          },
          "metadata": {
            "tags": []
          },
          "execution_count": 256
        }
      ]
    },
    {
      "cell_type": "code",
      "metadata": {
        "colab": {
          "base_uri": "https://localhost:8080/",
          "height": 297
        },
        "id": "LJGiXMFYN4LJ",
        "outputId": "16ffea43-5d4f-4ef3-ca5d-9825f926a905"
      },
      "source": [
        "disp.plot()"
      ],
      "execution_count": 247,
      "outputs": [
        {
          "output_type": "execute_result",
          "data": {
            "text/plain": [
              "<sklearn.metrics._plot.confusion_matrix.ConfusionMatrixDisplay at 0x7f3502112790>"
            ]
          },
          "metadata": {
            "tags": []
          },
          "execution_count": 247
        },
        {
          "output_type": "display_data",
          "data": {
            "image/png": "[encoded data removed]",
            "text/plain": [
              "<Figure size 432x288 with 2 Axes>"
            ]
          },
          "metadata": {
            "tags": [],
            "needs_background": "light"
          }
        }
      ]
    },
    {
      "cell_type": "code",
      "metadata": {
        "colab": {
          "base_uri": "https://localhost:8080/"
        },
        "id": "K0onSgDJBfTO",
        "outputId": "19f05f41-eb9a-4e9a-eb59-3427646e4746"
      },
      "source": [
        "dict_label"
      ],
      "execution_count": 190,
      "outputs": [
        {
          "output_type": "execute_result",
          "data": {
            "text/plain": [
              "{0: 'back',\n",
              " 1: 'buffer_overflow',\n",
              " 2: 'ftp_write',\n",
              " 3: 'guess_passwd',\n",
              " 4: 'imap',\n",
              " 5: 'ipsweep',\n",
              " 6: 'land',\n",
              " 7: 'loadmodule',\n",
              " 8: 'multihop',\n",
              " 9: 'neptune',\n",
              " 10: 'nmap',\n",
              " 11: 'normal',\n",
              " 12: 'perl',\n",
              " 13: 'phf',\n",
              " 14: 'pod',\n",
              " 15: 'portsweep',\n",
              " 16: 'rootkit',\n",
              " 17: 'satan',\n",
              " 18: 'smurf',\n",
              " 19: 'spy',\n",
              " 20: 'teardrop',\n",
              " 21: 'warezclient',\n",
              " 22: 'warezmaster'}"
            ]
          },
          "metadata": {
            "tags": []
          },
          "execution_count": 190
        }
      ]
    },
    {
      "cell_type": "code",
      "metadata": {
        "id": "eRLKbY_dyUbi",
        "colab": {
          "base_uri": "https://localhost:8080/",
          "height": 173
        },
        "outputId": "1a757e47-5e6a-4bb0-ee50-05615b956144"
      },
      "source": [
        "df_tree = model.trees_to_dataframe()"
      ],
      "execution_count": 174,
      "outputs": [
        {
          "output_type": "error",
          "ename": "AttributeError",
          "evalue": "ignored",
          "traceback": [
            "\u001b[0;31m---------------------------------------------------------------------------\u001b[0m",
            "\u001b[0;31mAttributeError\u001b[0m                            Traceback (most recent call last)",
            "\u001b[0;32m<ipython-input-174-405fdfc16274>\u001b[0m in \u001b[0;36m<module>\u001b[0;34m()\u001b[0m\n\u001b[0;32m----> 1\u001b[0;31m \u001b[0mdf_tree\u001b[0m \u001b[0;34m=\u001b[0m \u001b[0mmodel2\u001b[0m\u001b[0;34m.\u001b[0m\u001b[0mtrees_to_dataframe\u001b[0m\u001b[0;34m(\u001b[0m\u001b[0;34m)\u001b[0m\u001b[0;34m\u001b[0m\u001b[0;34m\u001b[0m\u001b[0m\n\u001b[0m",
            "\u001b[0;31mAttributeError\u001b[0m: 'LGBMClassifier' object has no attribute 'trees_to_dataframe'"
          ]
        }
      ]
    },
    {
      "cell_type": "code",
      "metadata": {
        "colab": {
          "base_uri": "https://localhost:8080/",
          "height": 1000
        },
        "id": "eYoe_pqDBKfK",
        "outputId": "cb0ccaa0-f6f7-4ce9-8b08-b50df649658f"
      },
      "source": [
        "df_tree"
      ],
      "execution_count": 158,
      "outputs": [
        {
          "output_type": "execute_result",
          "data": {
            "text/html": [
              "<div>\n",
              "<style scoped>\n",
              "    .dataframe tbody tr th:only-of-type {\n",
              "        vertical-align: middle;\n",
              "    }\n",
              "\n",
              "    .dataframe tbody tr th {\n",
              "        vertical-align: top;\n",
              "    }\n",
              "\n",
              "    .dataframe thead th {\n",
              "        text-align: right;\n",
              "    }\n",
              "</style>\n",
              "<table border=\"1\" class=\"dataframe\">\n",
              "  <thead>\n",
              "    <tr style=\"text-align: right;\">\n",
              "      <th></th>\n",
              "      <th>tree_index</th>\n",
              "      <th>node_depth</th>\n",
              "      <th>node_index</th>\n",
              "      <th>left_child</th>\n",
              "      <th>right_child</th>\n",
              "      <th>parent_index</th>\n",
              "      <th>split_feature</th>\n",
              "      <th>split_gain</th>\n",
              "      <th>threshold</th>\n",
              "      <th>decision_type</th>\n",
              "      <th>missing_direction</th>\n",
              "      <th>missing_type</th>\n",
              "      <th>value</th>\n",
              "      <th>weight</th>\n",
              "      <th>count</th>\n",
              "    </tr>\n",
              "  </thead>\n",
              "  <tbody>\n",
              "    <tr>\n",
              "      <th>0</th>\n",
              "      <td>0</td>\n",
              "      <td>1</td>\n",
              "      <td>0-S0</td>\n",
              "      <td>0-S3</td>\n",
              "      <td>0-S1</td>\n",
              "      <td>None</td>\n",
              "      <td>same_srv_rate</td>\n",
              "      <td>86389.796875</td>\n",
              "      <td>0.315</td>\n",
              "      <td>&lt;=</td>\n",
              "      <td>left</td>\n",
              "      <td>None</td>\n",
              "      <td>10.389200</td>\n",
              "      <td>0</td>\n",
              "      <td>101909</td>\n",
              "    </tr>\n",
              "    <tr>\n",
              "      <th>1</th>\n",
              "      <td>0</td>\n",
              "      <td>2</td>\n",
              "      <td>0-S3</td>\n",
              "      <td>0-S6</td>\n",
              "      <td>0-S5</td>\n",
              "      <td>0-S0</td>\n",
              "      <td>dst_host_diff_srv_rate</td>\n",
              "      <td>35398.500000</td>\n",
              "      <td>0.155</td>\n",
              "      <td>&lt;=</td>\n",
              "      <td>left</td>\n",
              "      <td>None</td>\n",
              "      <td>10.266300</td>\n",
              "      <td>36635</td>\n",
              "      <td>36635</td>\n",
              "    </tr>\n",
              "    <tr>\n",
              "      <th>2</th>\n",
              "      <td>0</td>\n",
              "      <td>3</td>\n",
              "      <td>0-S6</td>\n",
              "      <td>0-L0</td>\n",
              "      <td>0-L7</td>\n",
              "      <td>0-S3</td>\n",
              "      <td>src_bytes</td>\n",
              "      <td>800.836975</td>\n",
              "      <td>1e-35</td>\n",
              "      <td>&lt;=</td>\n",
              "      <td>left</td>\n",
              "      <td>None</td>\n",
              "      <td>10.251400</td>\n",
              "      <td>35819</td>\n",
              "      <td>35819</td>\n",
              "    </tr>\n",
              "    <tr>\n",
              "      <th>3</th>\n",
              "      <td>0</td>\n",
              "      <td>4</td>\n",
              "      <td>0-L0</td>\n",
              "      <td>None</td>\n",
              "      <td>None</td>\n",
              "      <td>0-S6</td>\n",
              "      <td>None</td>\n",
              "      <td>NaN</td>\n",
              "      <td>None</td>\n",
              "      <td>None</td>\n",
              "      <td>None</td>\n",
              "      <td>None</td>\n",
              "      <td>10.250503</td>\n",
              "      <td>35683</td>\n",
              "      <td>35683</td>\n",
              "    </tr>\n",
              "    <tr>\n",
              "      <th>4</th>\n",
              "      <td>0</td>\n",
              "      <td>4</td>\n",
              "      <td>0-L7</td>\n",
              "      <td>None</td>\n",
              "      <td>None</td>\n",
              "      <td>0-S6</td>\n",
              "      <td>None</td>\n",
              "      <td>NaN</td>\n",
              "      <td>None</td>\n",
              "      <td>None</td>\n",
              "      <td>None</td>\n",
              "      <td>None</td>\n",
              "      <td>10.493627</td>\n",
              "      <td>136</td>\n",
              "      <td>136</td>\n",
              "    </tr>\n",
              "    <tr>\n",
              "      <th>5</th>\n",
              "      <td>0</td>\n",
              "      <td>3</td>\n",
              "      <td>0-S5</td>\n",
              "      <td>0-L4</td>\n",
              "      <td>0-L6</td>\n",
              "      <td>0-S3</td>\n",
              "      <td>src_bytes</td>\n",
              "      <td>4481.669922</td>\n",
              "      <td>46.5</td>\n",
              "      <td>&lt;=</td>\n",
              "      <td>left</td>\n",
              "      <td>None</td>\n",
              "      <td>10.917500</td>\n",
              "      <td>816</td>\n",
              "      <td>816</td>\n",
              "    </tr>\n",
              "    <tr>\n",
              "      <th>6</th>\n",
              "      <td>0</td>\n",
              "      <td>4</td>\n",
              "      <td>0-L4</td>\n",
              "      <td>None</td>\n",
              "      <td>None</td>\n",
              "      <td>0-S5</td>\n",
              "      <td>None</td>\n",
              "      <td>NaN</td>\n",
              "      <td>None</td>\n",
              "      <td>None</td>\n",
              "      <td>None</td>\n",
              "      <td>None</td>\n",
              "      <td>11.035061</td>\n",
              "      <td>652</td>\n",
              "      <td>652</td>\n",
              "    </tr>\n",
              "    <tr>\n",
              "      <th>7</th>\n",
              "      <td>0</td>\n",
              "      <td>4</td>\n",
              "      <td>0-L6</td>\n",
              "      <td>None</td>\n",
              "      <td>None</td>\n",
              "      <td>0-S5</td>\n",
              "      <td>None</td>\n",
              "      <td>NaN</td>\n",
              "      <td>None</td>\n",
              "      <td>None</td>\n",
              "      <td>None</td>\n",
              "      <td>None</td>\n",
              "      <td>10.450245</td>\n",
              "      <td>164</td>\n",
              "      <td>164</td>\n",
              "    </tr>\n",
              "    <tr>\n",
              "      <th>8</th>\n",
              "      <td>0</td>\n",
              "      <td>2</td>\n",
              "      <td>0-S1</td>\n",
              "      <td>0-S2</td>\n",
              "      <td>0-S4</td>\n",
              "      <td>0-S0</td>\n",
              "      <td>lnum_compromised</td>\n",
              "      <td>70943.000000</td>\n",
              "      <td>1e-35</td>\n",
              "      <td>&lt;=</td>\n",
              "      <td>left</td>\n",
              "      <td>None</td>\n",
              "      <td>10.458100</td>\n",
              "      <td>65274</td>\n",
              "      <td>65274</td>\n",
              "    </tr>\n",
              "    <tr>\n",
              "      <th>9</th>\n",
              "      <td>0</td>\n",
              "      <td>3</td>\n",
              "      <td>0-S2</td>\n",
              "      <td>0-L1</td>\n",
              "      <td>0-L3</td>\n",
              "      <td>0-S1</td>\n",
              "      <td>wrong_fragment</td>\n",
              "      <td>50309.199219</td>\n",
              "      <td>2</td>\n",
              "      <td>&lt;=</td>\n",
              "      <td>left</td>\n",
              "      <td>None</td>\n",
              "      <td>10.468700</td>\n",
              "      <td>64607</td>\n",
              "      <td>64607</td>\n",
              "    </tr>\n",
              "    <tr>\n",
              "      <th>10</th>\n",
              "      <td>0</td>\n",
              "      <td>4</td>\n",
              "      <td>0-L1</td>\n",
              "      <td>None</td>\n",
              "      <td>None</td>\n",
              "      <td>0-S2</td>\n",
              "      <td>None</td>\n",
              "      <td>NaN</td>\n",
              "      <td>None</td>\n",
              "      <td>None</td>\n",
              "      <td>None</td>\n",
              "      <td>None</td>\n",
              "      <td>10.459897</td>\n",
              "      <td>63966</td>\n",
              "      <td>63966</td>\n",
              "    </tr>\n",
              "    <tr>\n",
              "      <th>11</th>\n",
              "      <td>0</td>\n",
              "      <td>4</td>\n",
              "      <td>0-L3</td>\n",
              "      <td>None</td>\n",
              "      <td>None</td>\n",
              "      <td>0-S2</td>\n",
              "      <td>None</td>\n",
              "      <td>NaN</td>\n",
              "      <td>None</td>\n",
              "      <td>None</td>\n",
              "      <td>None</td>\n",
              "      <td>None</td>\n",
              "      <td>11.350245</td>\n",
              "      <td>641</td>\n",
              "      <td>641</td>\n",
              "    </tr>\n",
              "    <tr>\n",
              "      <th>12</th>\n",
              "      <td>0</td>\n",
              "      <td>3</td>\n",
              "      <td>0-S4</td>\n",
              "      <td>0-L2</td>\n",
              "      <td>0-L5</td>\n",
              "      <td>0-S1</td>\n",
              "      <td>src_bytes</td>\n",
              "      <td>4764.020020</td>\n",
              "      <td>6071</td>\n",
              "      <td>&lt;=</td>\n",
              "      <td>left</td>\n",
              "      <td>None</td>\n",
              "      <td>9.432100</td>\n",
              "      <td>667</td>\n",
              "      <td>667</td>\n",
              "    </tr>\n",
              "    <tr>\n",
              "      <th>13</th>\n",
              "      <td>0</td>\n",
              "      <td>4</td>\n",
              "      <td>0-L2</td>\n",
              "      <td>None</td>\n",
              "      <td>None</td>\n",
              "      <td>0-S4</td>\n",
              "      <td>None</td>\n",
              "      <td>NaN</td>\n",
              "      <td>None</td>\n",
              "      <td>None</td>\n",
              "      <td>None</td>\n",
              "      <td>None</td>\n",
              "      <td>10.306385</td>\n",
              "      <td>57</td>\n",
              "      <td>57</td>\n",
              "    </tr>\n",
              "    <tr>\n",
              "      <th>14</th>\n",
              "      <td>0</td>\n",
              "      <td>4</td>\n",
              "      <td>0-L5</td>\n",
              "      <td>None</td>\n",
              "      <td>None</td>\n",
              "      <td>0-S4</td>\n",
              "      <td>None</td>\n",
              "      <td>NaN</td>\n",
              "      <td>None</td>\n",
              "      <td>None</td>\n",
              "      <td>None</td>\n",
              "      <td>None</td>\n",
              "      <td>9.350409</td>\n",
              "      <td>610</td>\n",
              "      <td>610</td>\n",
              "    </tr>\n",
              "    <tr>\n",
              "      <th>15</th>\n",
              "      <td>1</td>\n",
              "      <td>1</td>\n",
              "      <td>1-S0</td>\n",
              "      <td>1-S3</td>\n",
              "      <td>1-S1</td>\n",
              "      <td>None</td>\n",
              "      <td>same_srv_rate</td>\n",
              "      <td>69975.796875</td>\n",
              "      <td>0.315</td>\n",
              "      <td>&lt;=</td>\n",
              "      <td>left</td>\n",
              "      <td>None</td>\n",
              "      <td>0.000000</td>\n",
              "      <td>0</td>\n",
              "      <td>101909</td>\n",
              "    </tr>\n",
              "    <tr>\n",
              "      <th>16</th>\n",
              "      <td>1</td>\n",
              "      <td>2</td>\n",
              "      <td>1-S3</td>\n",
              "      <td>1-S6</td>\n",
              "      <td>1-S5</td>\n",
              "      <td>1-S0</td>\n",
              "      <td>dst_host_diff_srv_rate</td>\n",
              "      <td>28672.699219</td>\n",
              "      <td>0.155</td>\n",
              "      <td>&lt;=</td>\n",
              "      <td>left</td>\n",
              "      <td>None</td>\n",
              "      <td>-0.110609</td>\n",
              "      <td>36635</td>\n",
              "      <td>36635</td>\n",
              "    </tr>\n",
              "    <tr>\n",
              "      <th>17</th>\n",
              "      <td>1</td>\n",
              "      <td>3</td>\n",
              "      <td>1-S6</td>\n",
              "      <td>1-L0</td>\n",
              "      <td>1-L7</td>\n",
              "      <td>1-S3</td>\n",
              "      <td>src_bytes</td>\n",
              "      <td>648.677979</td>\n",
              "      <td>1e-35</td>\n",
              "      <td>&lt;=</td>\n",
              "      <td>left</td>\n",
              "      <td>None</td>\n",
              "      <td>-0.123962</td>\n",
              "      <td>35819</td>\n",
              "      <td>35819</td>\n",
              "    </tr>\n",
              "    <tr>\n",
              "      <th>18</th>\n",
              "      <td>1</td>\n",
              "      <td>4</td>\n",
              "      <td>1-L0</td>\n",
              "      <td>None</td>\n",
              "      <td>None</td>\n",
              "      <td>1-S6</td>\n",
              "      <td>None</td>\n",
              "      <td>NaN</td>\n",
              "      <td>None</td>\n",
              "      <td>None</td>\n",
              "      <td>None</td>\n",
              "      <td>None</td>\n",
              "      <td>-0.124792</td>\n",
              "      <td>35683</td>\n",
              "      <td>35683</td>\n",
              "    </tr>\n",
              "    <tr>\n",
              "      <th>19</th>\n",
              "      <td>1</td>\n",
              "      <td>4</td>\n",
              "      <td>1-L7</td>\n",
              "      <td>None</td>\n",
              "      <td>None</td>\n",
              "      <td>1-S6</td>\n",
              "      <td>None</td>\n",
              "      <td>NaN</td>\n",
              "      <td>None</td>\n",
              "      <td>None</td>\n",
              "      <td>None</td>\n",
              "      <td>None</td>\n",
              "      <td>0.094020</td>\n",
              "      <td>136</td>\n",
              "      <td>136</td>\n",
              "    </tr>\n",
              "    <tr>\n",
              "      <th>20</th>\n",
              "      <td>1</td>\n",
              "      <td>3</td>\n",
              "      <td>1-S5</td>\n",
              "      <td>1-L4</td>\n",
              "      <td>1-L6</td>\n",
              "      <td>1-S3</td>\n",
              "      <td>src_bytes</td>\n",
              "      <td>3634.899902</td>\n",
              "      <td>32.5</td>\n",
              "      <td>&lt;=</td>\n",
              "      <td>left</td>\n",
              "      <td>None</td>\n",
              "      <td>0.475527</td>\n",
              "      <td>816</td>\n",
              "      <td>816</td>\n",
              "    </tr>\n",
              "    <tr>\n",
              "      <th>21</th>\n",
              "      <td>1</td>\n",
              "      <td>4</td>\n",
              "      <td>1-L4</td>\n",
              "      <td>None</td>\n",
              "      <td>None</td>\n",
              "      <td>1-S5</td>\n",
              "      <td>None</td>\n",
              "      <td>NaN</td>\n",
              "      <td>None</td>\n",
              "      <td>None</td>\n",
              "      <td>None</td>\n",
              "      <td>None</td>\n",
              "      <td>0.582186</td>\n",
              "      <td>650</td>\n",
              "      <td>650</td>\n",
              "    </tr>\n",
              "    <tr>\n",
              "      <th>22</th>\n",
              "      <td>1</td>\n",
              "      <td>4</td>\n",
              "      <td>1-L6</td>\n",
              "      <td>None</td>\n",
              "      <td>None</td>\n",
              "      <td>1-S5</td>\n",
              "      <td>None</td>\n",
              "      <td>NaN</td>\n",
              "      <td>None</td>\n",
              "      <td>None</td>\n",
              "      <td>None</td>\n",
              "      <td>None</td>\n",
              "      <td>0.057885</td>\n",
              "      <td>166</td>\n",
              "      <td>166</td>\n",
              "    </tr>\n",
              "    <tr>\n",
              "      <th>23</th>\n",
              "      <td>1</td>\n",
              "      <td>2</td>\n",
              "      <td>1-S1</td>\n",
              "      <td>1-S2</td>\n",
              "      <td>1-S4</td>\n",
              "      <td>1-S0</td>\n",
              "      <td>lnum_compromised</td>\n",
              "      <td>57463.898438</td>\n",
              "      <td>1e-35</td>\n",
              "      <td>&lt;=</td>\n",
              "      <td>left</td>\n",
              "      <td>None</td>\n",
              "      <td>0.062079</td>\n",
              "      <td>65274</td>\n",
              "      <td>65274</td>\n",
              "    </tr>\n",
              "    <tr>\n",
              "      <th>24</th>\n",
              "      <td>1</td>\n",
              "      <td>3</td>\n",
              "      <td>1-S2</td>\n",
              "      <td>1-L1</td>\n",
              "      <td>1-L3</td>\n",
              "      <td>1-S1</td>\n",
              "      <td>wrong_fragment</td>\n",
              "      <td>40750.398438</td>\n",
              "      <td>2</td>\n",
              "      <td>&lt;=</td>\n",
              "      <td>left</td>\n",
              "      <td>None</td>\n",
              "      <td>0.071613</td>\n",
              "      <td>64607</td>\n",
              "      <td>64607</td>\n",
              "    </tr>\n",
              "    <tr>\n",
              "      <th>25</th>\n",
              "      <td>1</td>\n",
              "      <td>4</td>\n",
              "      <td>1-L1</td>\n",
              "      <td>None</td>\n",
              "      <td>None</td>\n",
              "      <td>1-S2</td>\n",
              "      <td>None</td>\n",
              "      <td>NaN</td>\n",
              "      <td>None</td>\n",
              "      <td>None</td>\n",
              "      <td>None</td>\n",
              "      <td>None</td>\n",
              "      <td>0.063662</td>\n",
              "      <td>63966</td>\n",
              "      <td>63966</td>\n",
              "    </tr>\n",
              "    <tr>\n",
              "      <th>26</th>\n",
              "      <td>1</td>\n",
              "      <td>4</td>\n",
              "      <td>1-L3</td>\n",
              "      <td>None</td>\n",
              "      <td>None</td>\n",
              "      <td>1-S2</td>\n",
              "      <td>None</td>\n",
              "      <td>NaN</td>\n",
              "      <td>None</td>\n",
              "      <td>None</td>\n",
              "      <td>None</td>\n",
              "      <td>None</td>\n",
              "      <td>0.864976</td>\n",
              "      <td>641</td>\n",
              "      <td>641</td>\n",
              "    </tr>\n",
              "    <tr>\n",
              "      <th>27</th>\n",
              "      <td>1</td>\n",
              "      <td>3</td>\n",
              "      <td>1-S4</td>\n",
              "      <td>1-L2</td>\n",
              "      <td>1-L5</td>\n",
              "      <td>1-S1</td>\n",
              "      <td>hot</td>\n",
              "      <td>3982.590088</td>\n",
              "      <td>1.5</td>\n",
              "      <td>&lt;=</td>\n",
              "      <td>left</td>\n",
              "      <td>None</td>\n",
              "      <td>-0.861351</td>\n",
              "      <td>667</td>\n",
              "      <td>667</td>\n",
              "    </tr>\n",
              "    <tr>\n",
              "      <th>28</th>\n",
              "      <td>1</td>\n",
              "      <td>4</td>\n",
              "      <td>1-L2</td>\n",
              "      <td>None</td>\n",
              "      <td>None</td>\n",
              "      <td>1-S4</td>\n",
              "      <td>None</td>\n",
              "      <td>NaN</td>\n",
              "      <td>None</td>\n",
              "      <td>None</td>\n",
              "      <td>None</td>\n",
              "      <td>None</td>\n",
              "      <td>0.081266</td>\n",
              "      <td>42</td>\n",
              "      <td>42</td>\n",
              "    </tr>\n",
              "    <tr>\n",
              "      <th>29</th>\n",
              "      <td>1</td>\n",
              "      <td>4</td>\n",
              "      <td>1-L5</td>\n",
              "      <td>None</td>\n",
              "      <td>None</td>\n",
              "      <td>1-S4</td>\n",
              "      <td>None</td>\n",
              "      <td>NaN</td>\n",
              "      <td>None</td>\n",
              "      <td>None</td>\n",
              "      <td>None</td>\n",
              "      <td>None</td>\n",
              "      <td>-0.924695</td>\n",
              "      <td>625</td>\n",
              "      <td>625</td>\n",
              "    </tr>\n",
              "    <tr>\n",
              "      <th>30</th>\n",
              "      <td>2</td>\n",
              "      <td>1</td>\n",
              "      <td>2-S0</td>\n",
              "      <td>2-S1</td>\n",
              "      <td>2-S3</td>\n",
              "      <td>None</td>\n",
              "      <td>flag</td>\n",
              "      <td>56882.300781</td>\n",
              "      <td>4||9</td>\n",
              "      <td>==</td>\n",
              "      <td>right</td>\n",
              "      <td>NaN</td>\n",
              "      <td>0.000000</td>\n",
              "      <td>0</td>\n",
              "      <td>101909</td>\n",
              "    </tr>\n",
              "    <tr>\n",
              "      <th>31</th>\n",
              "      <td>2</td>\n",
              "      <td>2</td>\n",
              "      <td>2-S1</td>\n",
              "      <td>2-S2</td>\n",
              "      <td>2-S5</td>\n",
              "      <td>2-S0</td>\n",
              "      <td>lnum_compromised</td>\n",
              "      <td>46950.800781</td>\n",
              "      <td>1e-35</td>\n",
              "      <td>&lt;=</td>\n",
              "      <td>left</td>\n",
              "      <td>None</td>\n",
              "      <td>0.060532</td>\n",
              "      <td>61520</td>\n",
              "      <td>61520</td>\n",
              "    </tr>\n",
              "    <tr>\n",
              "      <th>32</th>\n",
              "      <td>2</td>\n",
              "      <td>3</td>\n",
              "      <td>2-S2</td>\n",
              "      <td>2-L0</td>\n",
              "      <td>2-L3</td>\n",
              "      <td>2-S1</td>\n",
              "      <td>service</td>\n",
              "      <td>40455.398438</td>\n",
              "      <td>14||18||45</td>\n",
              "      <td>==</td>\n",
              "      <td>right</td>\n",
              "      <td>NaN</td>\n",
              "      <td>0.069687</td>\n",
              "      <td>60853</td>\n",
              "      <td>60853</td>\n",
              "    </tr>\n",
              "    <tr>\n",
              "      <th>33</th>\n",
              "      <td>2</td>\n",
              "      <td>4</td>\n",
              "      <td>2-L0</td>\n",
              "      <td>None</td>\n",
              "      <td>None</td>\n",
              "      <td>2-S2</td>\n",
              "      <td>None</td>\n",
              "      <td>NaN</td>\n",
              "      <td>None</td>\n",
              "      <td>None</td>\n",
              "      <td>None</td>\n",
              "      <td>None</td>\n",
              "      <td>0.415225</td>\n",
              "      <td>3200</td>\n",
              "      <td>3200</td>\n",
              "    </tr>\n",
              "    <tr>\n",
              "      <th>34</th>\n",
              "      <td>2</td>\n",
              "      <td>4</td>\n",
              "      <td>2-L3</td>\n",
              "      <td>None</td>\n",
              "      <td>None</td>\n",
              "      <td>2-S2</td>\n",
              "      <td>None</td>\n",
              "      <td>NaN</td>\n",
              "      <td>None</td>\n",
              "      <td>None</td>\n",
              "      <td>None</td>\n",
              "      <td>None</td>\n",
              "      <td>0.050428</td>\n",
              "      <td>57653</td>\n",
              "      <td>57653</td>\n",
              "    </tr>\n",
              "    <tr>\n",
              "      <th>35</th>\n",
              "      <td>2</td>\n",
              "      <td>3</td>\n",
              "      <td>2-S5</td>\n",
              "      <td>2-L2</td>\n",
              "      <td>2-L6</td>\n",
              "      <td>2-S1</td>\n",
              "      <td>dst_host_same_srv_rate</td>\n",
              "      <td>3310.129883</td>\n",
              "      <td>0.995</td>\n",
              "      <td>&lt;=</td>\n",
              "      <td>left</td>\n",
              "      <td>None</td>\n",
              "      <td>-0.773891</td>\n",
              "      <td>667</td>\n",
              "      <td>667</td>\n",
              "    </tr>\n",
              "    <tr>\n",
              "      <th>36</th>\n",
              "      <td>2</td>\n",
              "      <td>4</td>\n",
              "      <td>2-L2</td>\n",
              "      <td>None</td>\n",
              "      <td>None</td>\n",
              "      <td>2-S5</td>\n",
              "      <td>None</td>\n",
              "      <td>NaN</td>\n",
              "      <td>None</td>\n",
              "      <td>None</td>\n",
              "      <td>None</td>\n",
              "      <td>None</td>\n",
              "      <td>0.074737</td>\n",
              "      <td>43</td>\n",
              "      <td>43</td>\n",
              "    </tr>\n",
              "    <tr>\n",
              "      <th>37</th>\n",
              "      <td>2</td>\n",
              "      <td>4</td>\n",
              "      <td>2-L6</td>\n",
              "      <td>None</td>\n",
              "      <td>None</td>\n",
              "      <td>2-S5</td>\n",
              "      <td>None</td>\n",
              "      <td>NaN</td>\n",
              "      <td>None</td>\n",
              "      <td>None</td>\n",
              "      <td>None</td>\n",
              "      <td>None</td>\n",
              "      <td>-0.832370</td>\n",
              "      <td>624</td>\n",
              "      <td>624</td>\n",
              "    </tr>\n",
              "    <tr>\n",
              "      <th>38</th>\n",
              "      <td>2</td>\n",
              "      <td>2</td>\n",
              "      <td>2-S3</td>\n",
              "      <td>2-S4</td>\n",
              "      <td>2-S6</td>\n",
              "      <td>2-S0</td>\n",
              "      <td>diff_srv_rate</td>\n",
              "      <td>20133.000000</td>\n",
              "      <td>0.885</td>\n",
              "      <td>&lt;=</td>\n",
              "      <td>left</td>\n",
              "      <td>None</td>\n",
              "      <td>-0.092193</td>\n",
              "      <td>40389</td>\n",
              "      <td>40389</td>\n",
              "    </tr>\n",
              "    <tr>\n",
              "      <th>39</th>\n",
              "      <td>2</td>\n",
              "      <td>3</td>\n",
              "      <td>2-S4</td>\n",
              "      <td>2-L1</td>\n",
              "      <td>2-L5</td>\n",
              "      <td>2-S3</td>\n",
              "      <td>service</td>\n",
              "      <td>7293.850098</td>\n",
              "      <td>22</td>\n",
              "      <td>==</td>\n",
              "      <td>right</td>\n",
              "      <td>NaN</td>\n",
              "      <td>-0.100519</td>\n",
              "      <td>39838</td>\n",
              "      <td>39838</td>\n",
              "    </tr>\n",
              "    <tr>\n",
              "      <th>40</th>\n",
              "      <td>2</td>\n",
              "      <td>4</td>\n",
              "      <td>2-L1</td>\n",
              "      <td>None</td>\n",
              "      <td>None</td>\n",
              "      <td>2-S4</td>\n",
              "      <td>None</td>\n",
              "      <td>NaN</td>\n",
              "      <td>None</td>\n",
              "      <td>None</td>\n",
              "      <td>None</td>\n",
              "      <td>None</td>\n",
              "      <td>0.038206</td>\n",
              "      <td>3462</td>\n",
              "      <td>3462</td>\n",
              "    </tr>\n",
              "    <tr>\n",
              "      <th>41</th>\n",
              "      <td>2</td>\n",
              "      <td>4</td>\n",
              "      <td>2-L5</td>\n",
              "      <td>None</td>\n",
              "      <td>None</td>\n",
              "      <td>2-S4</td>\n",
              "      <td>None</td>\n",
              "      <td>NaN</td>\n",
              "      <td>None</td>\n",
              "      <td>None</td>\n",
              "      <td>None</td>\n",
              "      <td>None</td>\n",
              "      <td>-0.113701</td>\n",
              "      <td>36376</td>\n",
              "      <td>36376</td>\n",
              "    </tr>\n",
              "    <tr>\n",
              "      <th>42</th>\n",
              "      <td>2</td>\n",
              "      <td>3</td>\n",
              "      <td>2-S6</td>\n",
              "      <td>2-L4</td>\n",
              "      <td>2-L7</td>\n",
              "      <td>2-S3</td>\n",
              "      <td>dst_host_rerror_rate</td>\n",
              "      <td>769.244995</td>\n",
              "      <td>0.065</td>\n",
              "      <td>&lt;=</td>\n",
              "      <td>left</td>\n",
              "      <td>None</td>\n",
              "      <td>0.508122</td>\n",
              "      <td>551</td>\n",
              "      <td>551</td>\n",
              "    </tr>\n",
              "    <tr>\n",
              "      <th>43</th>\n",
              "      <td>2</td>\n",
              "      <td>4</td>\n",
              "      <td>2-L4</td>\n",
              "      <td>None</td>\n",
              "      <td>None</td>\n",
              "      <td>2-S6</td>\n",
              "      <td>None</td>\n",
              "      <td>NaN</td>\n",
              "      <td>None</td>\n",
              "      <td>None</td>\n",
              "      <td>None</td>\n",
              "      <td>None</td>\n",
              "      <td>-0.057999</td>\n",
              "      <td>23</td>\n",
              "      <td>23</td>\n",
              "    </tr>\n",
              "    <tr>\n",
              "      <th>44</th>\n",
              "      <td>2</td>\n",
              "      <td>4</td>\n",
              "      <td>2-L7</td>\n",
              "      <td>None</td>\n",
              "      <td>None</td>\n",
              "      <td>2-S6</td>\n",
              "      <td>None</td>\n",
              "      <td>NaN</td>\n",
              "      <td>None</td>\n",
              "      <td>None</td>\n",
              "      <td>None</td>\n",
              "      <td>None</td>\n",
              "      <td>0.532782</td>\n",
              "      <td>528</td>\n",
              "      <td>528</td>\n",
              "    </tr>\n",
              "  </tbody>\n",
              "</table>\n",
              "</div>"
            ],
            "text/plain": [
              "    tree_index  node_depth node_index  ...      value weight   count\n",
              "0            0           1       0-S0  ...  10.389200      0  101909\n",
              "1            0           2       0-S3  ...  10.266300  36635   36635\n",
              "2            0           3       0-S6  ...  10.251400  35819   35819\n",
              "3            0           4       0-L0  ...  10.250503  35683   35683\n",
              "4            0           4       0-L7  ...  10.493627    136     136\n",
              "5            0           3       0-S5  ...  10.917500    816     816\n",
              "6            0           4       0-L4  ...  11.035061    652     652\n",
              "7            0           4       0-L6  ...  10.450245    164     164\n",
              "8            0           2       0-S1  ...  10.458100  65274   65274\n",
              "9            0           3       0-S2  ...  10.468700  64607   64607\n",
              "10           0           4       0-L1  ...  10.459897  63966   63966\n",
              "11           0           4       0-L3  ...  11.350245    641     641\n",
              "12           0           3       0-S4  ...   9.432100    667     667\n",
              "13           0           4       0-L2  ...  10.306385     57      57\n",
              "14           0           4       0-L5  ...   9.350409    610     610\n",
              "15           1           1       1-S0  ...   0.000000      0  101909\n",
              "16           1           2       1-S3  ...  -0.110609  36635   36635\n",
              "17           1           3       1-S6  ...  -0.123962  35819   35819\n",
              "18           1           4       1-L0  ...  -0.124792  35683   35683\n",
              "19           1           4       1-L7  ...   0.094020    136     136\n",
              "20           1           3       1-S5  ...   0.475527    816     816\n",
              "21           1           4       1-L4  ...   0.582186    650     650\n",
              "22           1           4       1-L6  ...   0.057885    166     166\n",
              "23           1           2       1-S1  ...   0.062079  65274   65274\n",
              "24           1           3       1-S2  ...   0.071613  64607   64607\n",
              "25           1           4       1-L1  ...   0.063662  63966   63966\n",
              "26           1           4       1-L3  ...   0.864976    641     641\n",
              "27           1           3       1-S4  ...  -0.861351    667     667\n",
              "28           1           4       1-L2  ...   0.081266     42      42\n",
              "29           1           4       1-L5  ...  -0.924695    625     625\n",
              "30           2           1       2-S0  ...   0.000000      0  101909\n",
              "31           2           2       2-S1  ...   0.060532  61520   61520\n",
              "32           2           3       2-S2  ...   0.069687  60853   60853\n",
              "33           2           4       2-L0  ...   0.415225   3200    3200\n",
              "34           2           4       2-L3  ...   0.050428  57653   57653\n",
              "35           2           3       2-S5  ...  -0.773891    667     667\n",
              "36           2           4       2-L2  ...   0.074737     43      43\n",
              "37           2           4       2-L6  ...  -0.832370    624     624\n",
              "38           2           2       2-S3  ...  -0.092193  40389   40389\n",
              "39           2           3       2-S4  ...  -0.100519  39838   39838\n",
              "40           2           4       2-L1  ...   0.038206   3462    3462\n",
              "41           2           4       2-L5  ...  -0.113701  36376   36376\n",
              "42           2           3       2-S6  ...   0.508122    551     551\n",
              "43           2           4       2-L4  ...  -0.057999     23      23\n",
              "44           2           4       2-L7  ...   0.532782    528     528\n",
              "\n",
              "[45 rows x 15 columns]"
            ]
          },
          "metadata": {
            "tags": []
          },
          "execution_count": 158
        }
      ]
    },
    {
      "cell_type": "code",
      "metadata": {
        "colab": {
          "base_uri": "https://localhost:8080/",
          "height": 453
        },
        "id": "QPOUafzrCIAs",
        "outputId": "6a3ffbaf-cd60-4596-926e-ece79c86c3cc"
      },
      "source": [
        "lgb.create_tree_digraph(model, tree_index=0)"
      ],
      "execution_count": 159,
      "outputs": [
        {
          "output_type": "execute_result",
          "data": {
            "text/plain": [
              "<graphviz.dot.Digraph at 0x7fb81aed2710>"
            ],
            "image/svg+xml": "<?xml version=\"1.0\" encoding=\"UTF-8\" standalone=\"no\"?>\n<!DOCTYPE svg PUBLIC \"-//W3C//DTD SVG 1.1//EN\"\n \"http://www.w3.org/Graphics/SVG/1.1/DTD/svg11.dtd\">\n<!-- Generated by graphviz version 2.40.1 (20161225.0304)\n -->\n<!-- Title: %3 Pages: 1 -->\n<svg width=\"787pt\" height=\"324pt\"\n viewBox=\"0.00 0.00 787.39 324.00\" xmlns=\"http://www.w3.org/2000/svg\" xmlns:xlink=\"http://www.w3.org/1999/xlink\">\n<g id=\"graph0\" class=\"graph\" transform=\"scale(1 1) rotate(0) translate(4 320)\">\n<title>%3</title>\n<polygon fill=\"#ffffff\" stroke=\"transparent\" points=\"-4,4 -4,-320 783.3887,-320 783.3887,4 -4,4\"/>\n<!-- split0 -->\n<g id=\"node1\" class=\"node\">\n<title>split0</title>\n<polygon fill=\"none\" stroke=\"#000000\" points=\"155,-182 0,-182 0,-146 155,-146 155,-182\"/>\n<text text-anchor=\"start\" x=\"8\" y=\"-161.3\" font-family=\"Times,serif\" font-weight=\"bold\" font-size=\"14.00\" fill=\"#000000\">same_srv_rate</text>\n<text text-anchor=\"start\" x=\"97\" y=\"-161.3\" font-family=\"Times,serif\" font-size=\"14.00\" fill=\"#000000\"> ≤ </text>\n<text text-anchor=\"start\" x=\"113\" y=\"-161.3\" font-family=\"Times,serif\" font-weight=\"bold\" font-size=\"14.00\" fill=\"#000000\">0.315</text>\n</g>\n<!-- split3 -->\n<g id=\"node2\" class=\"node\">\n<title>split3</title>\n<polygon fill=\"none\" stroke=\"#000000\" points=\"400,-222 196,-222 196,-186 400,-186 400,-222\"/>\n<text text-anchor=\"start\" x=\"204\" y=\"-201.3\" font-family=\"Times,serif\" font-weight=\"bold\" font-size=\"14.00\" fill=\"#000000\">dst_host_diff_srv_rate</text>\n<text text-anchor=\"start\" x=\"342\" y=\"-201.3\" font-family=\"Times,serif\" font-size=\"14.00\" fill=\"#000000\"> ≤ </text>\n<text text-anchor=\"start\" x=\"358\" y=\"-201.3\" font-family=\"Times,serif\" font-weight=\"bold\" font-size=\"14.00\" fill=\"#000000\">0.155</text>\n</g>\n<!-- split0&#45;&gt;split3 -->\n<g id=\"edge7\" class=\"edge\">\n<title>split0&#45;&gt;split3</title>\n<path fill=\"none\" stroke=\"#000000\" d=\"M155.2401,-178.1025C166.0767,-180.0683 177.3734,-182.1176 188.6576,-184.1646\"/>\n<polygon fill=\"#000000\" stroke=\"#000000\" points=\"188.0946,-187.6196 198.5588,-185.9608 189.3441,-180.732 188.0946,-187.6196\"/>\n<text text-anchor=\"middle\" x=\"175.5\" y=\"-185.8\" font-family=\"Times,serif\" font-size=\"14.00\" fill=\"#000000\">yes</text>\n</g>\n<!-- split1 -->\n<g id=\"node9\" class=\"node\">\n<title>split1</title>\n<polygon fill=\"none\" stroke=\"#000000\" points=\"392.5,-142 203.5,-142 203.5,-106 392.5,-106 392.5,-142\"/>\n<text text-anchor=\"start\" x=\"211.5\" y=\"-121.3\" font-family=\"Times,serif\" font-weight=\"bold\" font-size=\"14.00\" fill=\"#000000\">lnum_compromised</text>\n<text text-anchor=\"start\" x=\"334.5\" y=\"-121.3\" font-family=\"Times,serif\" font-size=\"14.00\" fill=\"#000000\"> ≤ </text>\n<text text-anchor=\"start\" x=\"350.5\" y=\"-121.3\" font-family=\"Times,serif\" font-weight=\"bold\" font-size=\"14.00\" fill=\"#000000\">0.000</text>\n</g>\n<!-- split0&#45;&gt;split1 -->\n<g id=\"edge14\" class=\"edge\">\n<title>split0&#45;&gt;split1</title>\n<path fill=\"none\" stroke=\"#000000\" d=\"M155.2401,-149.8975C167.4696,-147.679 180.2853,-145.3541 193.0074,-143.0463\"/>\n<polygon fill=\"#000000\" stroke=\"#000000\" points=\"193.9626,-146.4302 203.1772,-141.2014 192.7131,-139.5426 193.9626,-146.4302\"/>\n<text text-anchor=\"middle\" x=\"175.5\" y=\"-150.8\" font-family=\"Times,serif\" font-size=\"14.00\" fill=\"#000000\">no</text>\n</g>\n<!-- split6 -->\n<g id=\"node3\" class=\"node\">\n<title>split6</title>\n<polygon fill=\"none\" stroke=\"#000000\" points=\"587.5,-276 464.5,-276 464.5,-240 587.5,-240 587.5,-276\"/>\n<text text-anchor=\"start\" x=\"472.5\" y=\"-255.3\" font-family=\"Times,serif\" font-weight=\"bold\" font-size=\"14.00\" fill=\"#000000\">src_bytes</text>\n<text text-anchor=\"start\" x=\"529.5\" y=\"-255.3\" font-family=\"Times,serif\" font-size=\"14.00\" fill=\"#000000\"> ≤ </text>\n<text text-anchor=\"start\" x=\"545.5\" y=\"-255.3\" font-family=\"Times,serif\" font-weight=\"bold\" font-size=\"14.00\" fill=\"#000000\">0.000</text>\n</g>\n<!-- split3&#45;&gt;split6 -->\n<g id=\"edge3\" class=\"edge\">\n<title>split3&#45;&gt;split6</title>\n<path fill=\"none\" stroke=\"#000000\" d=\"M374.2377,-222.0563C400.0661,-228.1735 428.81,-234.9813 454.2751,-241.0125\"/>\n<polygon fill=\"#000000\" stroke=\"#000000\" points=\"453.6908,-244.4709 464.2283,-243.3699 455.3041,-237.6593 453.6908,-244.4709\"/>\n<text text-anchor=\"middle\" x=\"420.5\" y=\"-237.8\" font-family=\"Times,serif\" font-size=\"14.00\" fill=\"#000000\">yes</text>\n</g>\n<!-- split5 -->\n<g id=\"node6\" class=\"node\">\n<title>split5</title>\n<polygon fill=\"none\" stroke=\"#000000\" points=\"591.5,-222 460.5,-222 460.5,-186 591.5,-186 591.5,-222\"/>\n<text text-anchor=\"start\" x=\"468.5\" y=\"-201.3\" font-family=\"Times,serif\" font-weight=\"bold\" font-size=\"14.00\" fill=\"#000000\">src_bytes</text>\n<text text-anchor=\"start\" x=\"525.5\" y=\"-201.3\" font-family=\"Times,serif\" font-size=\"14.00\" fill=\"#000000\"> ≤ </text>\n<text text-anchor=\"start\" x=\"541.5\" y=\"-201.3\" font-family=\"Times,serif\" font-weight=\"bold\" font-size=\"14.00\" fill=\"#000000\">46.500</text>\n</g>\n<!-- split3&#45;&gt;split5 -->\n<g id=\"edge6\" class=\"edge\">\n<title>split3&#45;&gt;split5</title>\n<path fill=\"none\" stroke=\"#000000\" d=\"M400.3288,-204C417.0318,-204 434.0726,-204 449.9965,-204\"/>\n<polygon fill=\"#000000\" stroke=\"#000000\" points=\"450.2848,-207.5001 460.2848,-204 450.2848,-200.5001 450.2848,-207.5001\"/>\n<text text-anchor=\"middle\" x=\"420.5\" y=\"-207.8\" font-family=\"Times,serif\" font-size=\"14.00\" fill=\"#000000\">no</text>\n</g>\n<!-- leaf0 -->\n<g id=\"node4\" class=\"node\">\n<title>leaf0</title>\n<ellipse fill=\"none\" stroke=\"#000000\" cx=\"715.6943\" cy=\"-298\" rx=\"63.8893\" ry=\"18\"/>\n<text text-anchor=\"start\" x=\"674.6943\" y=\"-295.3\" font-family=\"Times,serif\" font-size=\"14.00\" fill=\"#000000\">leaf 0: </text>\n<text text-anchor=\"start\" x=\"714.6943\" y=\"-295.3\" font-family=\"Times,serif\" font-weight=\"bold\" font-size=\"14.00\" fill=\"#000000\">10.251</text>\n</g>\n<!-- split6&#45;&gt;leaf0 -->\n<g id=\"edge1\" class=\"edge\">\n<title>split6&#45;&gt;leaf0</title>\n<path fill=\"none\" stroke=\"#000000\" d=\"M587.5883,-270.9869C609.0685,-275.5163 633.1545,-280.5952 654.5948,-285.1162\"/>\n<polygon fill=\"#000000\" stroke=\"#000000\" points=\"654.0544,-288.5792 664.5614,-287.2178 655.4988,-281.7298 654.0544,-288.5792\"/>\n<text text-anchor=\"middle\" x=\"631.5\" y=\"-284.8\" font-family=\"Times,serif\" font-size=\"14.00\" fill=\"#000000\">yes</text>\n</g>\n<!-- leaf7 -->\n<g id=\"node5\" class=\"node\">\n<title>leaf7</title>\n<ellipse fill=\"none\" stroke=\"#000000\" cx=\"715.6943\" cy=\"-258\" rx=\"63.8893\" ry=\"18\"/>\n<text text-anchor=\"start\" x=\"674.6943\" y=\"-255.3\" font-family=\"Times,serif\" font-size=\"14.00\" fill=\"#000000\">leaf 7: </text>\n<text text-anchor=\"start\" x=\"714.6943\" y=\"-255.3\" font-family=\"Times,serif\" font-weight=\"bold\" font-size=\"14.00\" fill=\"#000000\">10.494</text>\n</g>\n<!-- split6&#45;&gt;leaf7 -->\n<g id=\"edge2\" class=\"edge\">\n<title>split6&#45;&gt;leaf7</title>\n<path fill=\"none\" stroke=\"#000000\" d=\"M587.5883,-258C604.8511,-258 623.7968,-258 641.6997,-258\"/>\n<polygon fill=\"#000000\" stroke=\"#000000\" points=\"641.8093,-261.5001 651.8092,-258 641.8092,-254.5001 641.8093,-261.5001\"/>\n<text text-anchor=\"middle\" x=\"631.5\" y=\"-261.8\" font-family=\"Times,serif\" font-size=\"14.00\" fill=\"#000000\">no</text>\n</g>\n<!-- leaf4 -->\n<g id=\"node7\" class=\"node\">\n<title>leaf4</title>\n<ellipse fill=\"none\" stroke=\"#000000\" cx=\"715.6943\" cy=\"-218\" rx=\"63.0888\" ry=\"18\"/>\n<text text-anchor=\"start\" x=\"675.1943\" y=\"-215.3\" font-family=\"Times,serif\" font-size=\"14.00\" fill=\"#000000\">leaf 4: </text>\n<text text-anchor=\"start\" x=\"715.1943\" y=\"-215.3\" font-family=\"Times,serif\" font-weight=\"bold\" font-size=\"14.00\" fill=\"#000000\">11.035</text>\n</g>\n<!-- split5&#45;&gt;leaf4 -->\n<g id=\"edge4\" class=\"edge\">\n<title>split5&#45;&gt;leaf4</title>\n<path fill=\"none\" stroke=\"#000000\" d=\"M591.5477,-208.8376C608.6462,-210.0995 627.1534,-211.4654 644.5279,-212.7477\"/>\n<polygon fill=\"#000000\" stroke=\"#000000\" points=\"644.3772,-216.246 654.6077,-213.4916 644.8925,-209.265 644.3772,-216.246\"/>\n<text text-anchor=\"middle\" x=\"631.5\" y=\"-215.8\" font-family=\"Times,serif\" font-size=\"14.00\" fill=\"#000000\">yes</text>\n</g>\n<!-- leaf6 -->\n<g id=\"node8\" class=\"node\">\n<title>leaf6</title>\n<ellipse fill=\"none\" stroke=\"#000000\" cx=\"715.6943\" cy=\"-178\" rx=\"63.8893\" ry=\"18\"/>\n<text text-anchor=\"start\" x=\"674.6943\" y=\"-175.3\" font-family=\"Times,serif\" font-size=\"14.00\" fill=\"#000000\">leaf 6: </text>\n<text text-anchor=\"start\" x=\"714.6943\" y=\"-175.3\" font-family=\"Times,serif\" font-weight=\"bold\" font-size=\"14.00\" fill=\"#000000\">10.450</text>\n</g>\n<!-- split5&#45;&gt;leaf6 -->\n<g id=\"edge5\" class=\"edge\">\n<title>split5&#45;&gt;leaf6</title>\n<path fill=\"none\" stroke=\"#000000\" d=\"M591.5477,-195.0159C609.8902,-192.5018 629.854,-189.7655 648.3015,-187.237\"/>\n<polygon fill=\"#000000\" stroke=\"#000000\" points=\"648.9421,-190.682 658.3742,-185.8564 647.9915,-183.7469 648.9421,-190.682\"/>\n<text text-anchor=\"middle\" x=\"631.5\" y=\"-193.8\" font-family=\"Times,serif\" font-size=\"14.00\" fill=\"#000000\">no</text>\n</g>\n<!-- split2 -->\n<g id=\"node10\" class=\"node\">\n<title>split2</title>\n<polygon fill=\"none\" stroke=\"#000000\" points=\"611,-142 441,-142 441,-106 611,-106 611,-142\"/>\n<text text-anchor=\"start\" x=\"449\" y=\"-121.3\" font-family=\"Times,serif\" font-weight=\"bold\" font-size=\"14.00\" fill=\"#000000\">wrong_fragment</text>\n<text text-anchor=\"start\" x=\"553\" y=\"-121.3\" font-family=\"Times,serif\" font-size=\"14.00\" fill=\"#000000\"> ≤ </text>\n<text text-anchor=\"start\" x=\"569\" y=\"-121.3\" font-family=\"Times,serif\" font-weight=\"bold\" font-size=\"14.00\" fill=\"#000000\">2.000</text>\n</g>\n<!-- split1&#45;&gt;split2 -->\n<g id=\"edge10\" class=\"edge\">\n<title>split1&#45;&gt;split2</title>\n<path fill=\"none\" stroke=\"#000000\" d=\"M392.7118,-124C405.1378,-124 417.8788,-124 430.3208,-124\"/>\n<polygon fill=\"#000000\" stroke=\"#000000\" points=\"430.6883,-127.5001 440.6883,-124 430.6883,-120.5001 430.6883,-127.5001\"/>\n<text text-anchor=\"middle\" x=\"420.5\" y=\"-127.8\" font-family=\"Times,serif\" font-size=\"14.00\" fill=\"#000000\">yes</text>\n</g>\n<!-- split4 -->\n<g id=\"node13\" class=\"node\">\n<title>split4</title>\n<polygon fill=\"none\" stroke=\"#000000\" points=\"599,-76 453,-76 453,-40 599,-40 599,-76\"/>\n<text text-anchor=\"start\" x=\"461\" y=\"-55.3\" font-family=\"Times,serif\" font-weight=\"bold\" font-size=\"14.00\" fill=\"#000000\">src_bytes</text>\n<text text-anchor=\"start\" x=\"518\" y=\"-55.3\" font-family=\"Times,serif\" font-size=\"14.00\" fill=\"#000000\"> ≤ </text>\n<text text-anchor=\"start\" x=\"534\" y=\"-55.3\" font-family=\"Times,serif\" font-weight=\"bold\" font-size=\"14.00\" fill=\"#000000\">6071.000</text>\n</g>\n<!-- split1&#45;&gt;split4 -->\n<g id=\"edge13\" class=\"edge\">\n<title>split1&#45;&gt;split4</title>\n<path fill=\"none\" stroke=\"#000000\" d=\"M360.302,-105.9652C389.3314,-97.562 424.035,-87.5162 454.1647,-78.7944\"/>\n<polygon fill=\"#000000\" stroke=\"#000000\" points=\"455.1409,-82.1556 463.7733,-76.013 453.1945,-75.4317 455.1409,-82.1556\"/>\n<text text-anchor=\"middle\" x=\"420.5\" y=\"-94.8\" font-family=\"Times,serif\" font-size=\"14.00\" fill=\"#000000\">no</text>\n</g>\n<!-- leaf1 -->\n<g id=\"node11\" class=\"node\">\n<title>leaf1</title>\n<ellipse fill=\"none\" stroke=\"#000000\" cx=\"715.6943\" cy=\"-138\" rx=\"63.8893\" ry=\"18\"/>\n<text text-anchor=\"start\" x=\"674.6943\" y=\"-135.3\" font-family=\"Times,serif\" font-size=\"14.00\" fill=\"#000000\">leaf 1: </text>\n<text text-anchor=\"start\" x=\"714.6943\" y=\"-135.3\" font-family=\"Times,serif\" font-weight=\"bold\" font-size=\"14.00\" fill=\"#000000\">10.460</text>\n</g>\n<!-- split2&#45;&gt;leaf1 -->\n<g id=\"edge8\" class=\"edge\">\n<title>split2&#45;&gt;leaf1</title>\n<path fill=\"none\" stroke=\"#000000\" d=\"M611.1368,-130.2833C622.0342,-131.0876 633.1043,-131.9046 643.7637,-132.6913\"/>\n<polygon fill=\"#000000\" stroke=\"#000000\" points=\"643.6082,-136.1893 653.8387,-133.4349 644.1234,-129.2082 643.6082,-136.1893\"/>\n<text text-anchor=\"middle\" x=\"631.5\" y=\"-135.8\" font-family=\"Times,serif\" font-size=\"14.00\" fill=\"#000000\">yes</text>\n</g>\n<!-- leaf3 -->\n<g id=\"node12\" class=\"node\">\n<title>leaf3</title>\n<ellipse fill=\"none\" stroke=\"#000000\" cx=\"715.6943\" cy=\"-98\" rx=\"63.0888\" ry=\"18\"/>\n<text text-anchor=\"start\" x=\"675.1943\" y=\"-95.3\" font-family=\"Times,serif\" font-size=\"14.00\" fill=\"#000000\">leaf 3: </text>\n<text text-anchor=\"start\" x=\"715.1943\" y=\"-95.3\" font-family=\"Times,serif\" font-weight=\"bold\" font-size=\"14.00\" fill=\"#000000\">11.350</text>\n</g>\n<!-- split2&#45;&gt;leaf3 -->\n<g id=\"edge9\" class=\"edge\">\n<title>split2&#45;&gt;leaf3</title>\n<path fill=\"none\" stroke=\"#000000\" d=\"M611.1368,-112.3309C623.7563,-110.6013 636.6075,-108.8399 648.7841,-107.1709\"/>\n<polygon fill=\"#000000\" stroke=\"#000000\" points=\"649.4019,-110.619 658.834,-105.7934 648.4513,-103.6839 649.4019,-110.619\"/>\n<text text-anchor=\"middle\" x=\"631.5\" y=\"-113.8\" font-family=\"Times,serif\" font-size=\"14.00\" fill=\"#000000\">no</text>\n</g>\n<!-- leaf2 -->\n<g id=\"node14\" class=\"node\">\n<title>leaf2</title>\n<ellipse fill=\"none\" stroke=\"#000000\" cx=\"715.6943\" cy=\"-58\" rx=\"63.8893\" ry=\"18\"/>\n<text text-anchor=\"start\" x=\"674.6943\" y=\"-55.3\" font-family=\"Times,serif\" font-size=\"14.00\" fill=\"#000000\">leaf 2: </text>\n<text text-anchor=\"start\" x=\"714.6943\" y=\"-55.3\" font-family=\"Times,serif\" font-weight=\"bold\" font-size=\"14.00\" fill=\"#000000\">10.306</text>\n</g>\n<!-- split4&#45;&gt;leaf2 -->\n<g id=\"edge11\" class=\"edge\">\n<title>split4&#45;&gt;leaf2</title>\n<path fill=\"none\" stroke=\"#000000\" d=\"M599.0694,-58C613.095,-58 627.7923,-58 641.8424,-58\"/>\n<polygon fill=\"#000000\" stroke=\"#000000\" points=\"641.9398,-61.5001 651.9398,-58 641.9397,-54.5001 641.9398,-61.5001\"/>\n<text text-anchor=\"middle\" x=\"631.5\" y=\"-61.8\" font-family=\"Times,serif\" font-size=\"14.00\" fill=\"#000000\">yes</text>\n</g>\n<!-- leaf5 -->\n<g id=\"node15\" class=\"node\">\n<title>leaf5</title>\n<ellipse fill=\"none\" stroke=\"#000000\" cx=\"715.6943\" cy=\"-18\" rx=\"58.4896\" ry=\"18\"/>\n<text text-anchor=\"start\" x=\"678.6943\" y=\"-15.3\" font-family=\"Times,serif\" font-size=\"14.00\" fill=\"#000000\">leaf 5: </text>\n<text text-anchor=\"start\" x=\"718.6943\" y=\"-15.3\" font-family=\"Times,serif\" font-weight=\"bold\" font-size=\"14.00\" fill=\"#000000\">9.350</text>\n</g>\n<!-- split4&#45;&gt;leaf5 -->\n<g id=\"edge12\" class=\"edge\">\n<title>split4&#45;&gt;leaf5</title>\n<path fill=\"none\" stroke=\"#000000\" d=\"M599.0694,-42.5922C618.3551,-38.5255 638.9107,-34.191 657.3076,-30.3117\"/>\n<polygon fill=\"#000000\" stroke=\"#000000\" points=\"658.2216,-33.6961 667.2843,-28.208 656.7773,-26.8467 658.2216,-33.6961\"/>\n<text text-anchor=\"middle\" x=\"631.5\" y=\"-39.8\" font-family=\"Times,serif\" font-size=\"14.00\" fill=\"#000000\">no</text>\n</g>\n</g>\n</svg>\n"
          },
          "metadata": {
            "tags": []
          },
          "execution_count": 159
        }
      ]
    },
    {
      "cell_type": "code",
      "metadata": {
        "id": "0QMc61mp3XcX",
        "colab": {
          "base_uri": "https://localhost:8080/"
        },
        "outputId": "800ef7a3-4644-4330-9c2e-3ab703ee3f43"
      },
      "source": [
        "model.get_leaf_output(0, 0)"
      ],
      "execution_count": 89,
      "outputs": [
        {
          "output_type": "execute_result",
          "data": {
            "text/plain": [
              "7.186699899800442"
            ]
          },
          "metadata": {
            "tags": []
          },
          "execution_count": 89
        }
      ]
    },
    {
      "cell_type": "code",
      "metadata": {
        "colab": {
          "base_uri": "https://localhost:8080/"
        },
        "id": "jC50cJXJ9uRU",
        "outputId": "2ccf642c-5e76-4ac3-d2eb-142ae07d81bf"
      },
      "source": [
        "Y_train"
      ],
      "execution_count": 94,
      "outputs": [
        {
          "output_type": "execute_result",
          "data": {
            "text/plain": [
              "361408    5\n",
              "85540     9\n",
              "37646     9\n",
              "86362     9\n",
              "90841     9\n",
              "         ..\n",
              "451859    9\n",
              "455951    9\n",
              "24215     9\n",
              "22379     9\n",
              "39552     9\n",
              "Name: label, Length: 101909, dtype: int8"
            ]
          },
          "metadata": {
            "tags": []
          },
          "execution_count": 94
        }
      ]
    },
    {
      "cell_type": "code",
      "metadata": {
        "id": "3j1bfZkXCBgC"
      },
      "source": [
        ""
      ],
      "execution_count": null,
      "outputs": []
    },
    {
      "cell_type": "markdown",
      "metadata": {
        "id": "dFIoHDVRvkhg"
      },
      "source": [
        "# Binary data\n",
        "\n"
      ]
    },
    {
      "cell_type": "code",
      "metadata": {
        "colab": {
          "base_uri": "https://localhost:8080/",
          "height": 226
        },
        "id": "kob619xzvs47",
        "outputId": "4ada7c57-fd04-446c-af30-b12c8551454a"
      },
      "source": [
        "data2 = pd.read_csv('/content/gdrive/MyDrive/dataset/KDDCUP99/kddcup99_csv.csv')\n",
        "data2.head()"
      ],
      "execution_count": 79,
      "outputs": [
        {
          "output_type": "execute_result",
          "data": {
            "text/html": [
              "<div>\n",
              "<style scoped>\n",
              "    .dataframe tbody tr th:only-of-type {\n",
              "        vertical-align: middle;\n",
              "    }\n",
              "\n",
              "    .dataframe tbody tr th {\n",
              "        vertical-align: top;\n",
              "    }\n",
              "\n",
              "    .dataframe thead th {\n",
              "        text-align: right;\n",
              "    }\n",
              "</style>\n",
              "<table border=\"1\" class=\"dataframe\">\n",
              "  <thead>\n",
              "    <tr style=\"text-align: right;\">\n",
              "      <th></th>\n",
              "      <th>duration</th>\n",
              "      <th>protocol_type</th>\n",
              "      <th>service</th>\n",
              "      <th>flag</th>\n",
              "      <th>src_bytes</th>\n",
              "      <th>dst_bytes</th>\n",
              "      <th>land</th>\n",
              "      <th>wrong_fragment</th>\n",
              "      <th>urgent</th>\n",
              "      <th>hot</th>\n",
              "      <th>num_failed_logins</th>\n",
              "      <th>logged_in</th>\n",
              "      <th>lnum_compromised</th>\n",
              "      <th>lroot_shell</th>\n",
              "      <th>lsu_attempted</th>\n",
              "      <th>lnum_root</th>\n",
              "      <th>lnum_file_creations</th>\n",
              "      <th>lnum_shells</th>\n",
              "      <th>lnum_access_files</th>\n",
              "      <th>lnum_outbound_cmds</th>\n",
              "      <th>is_host_login</th>\n",
              "      <th>is_guest_login</th>\n",
              "      <th>count</th>\n",
              "      <th>srv_count</th>\n",
              "      <th>serror_rate</th>\n",
              "      <th>srv_serror_rate</th>\n",
              "      <th>rerror_rate</th>\n",
              "      <th>srv_rerror_rate</th>\n",
              "      <th>same_srv_rate</th>\n",
              "      <th>diff_srv_rate</th>\n",
              "      <th>srv_diff_host_rate</th>\n",
              "      <th>dst_host_count</th>\n",
              "      <th>dst_host_srv_count</th>\n",
              "      <th>dst_host_same_srv_rate</th>\n",
              "      <th>dst_host_diff_srv_rate</th>\n",
              "      <th>dst_host_same_src_port_rate</th>\n",
              "      <th>dst_host_srv_diff_host_rate</th>\n",
              "      <th>dst_host_serror_rate</th>\n",
              "      <th>dst_host_srv_serror_rate</th>\n",
              "      <th>dst_host_rerror_rate</th>\n",
              "      <th>dst_host_srv_rerror_rate</th>\n",
              "      <th>label</th>\n",
              "    </tr>\n",
              "  </thead>\n",
              "  <tbody>\n",
              "    <tr>\n",
              "      <th>0</th>\n",
              "      <td>0</td>\n",
              "      <td>tcp</td>\n",
              "      <td>http</td>\n",
              "      <td>SF</td>\n",
              "      <td>181</td>\n",
              "      <td>5450</td>\n",
              "      <td>0</td>\n",
              "      <td>0</td>\n",
              "      <td>0</td>\n",
              "      <td>0</td>\n",
              "      <td>0</td>\n",
              "      <td>1</td>\n",
              "      <td>0</td>\n",
              "      <td>0</td>\n",
              "      <td>0</td>\n",
              "      <td>0</td>\n",
              "      <td>0</td>\n",
              "      <td>0</td>\n",
              "      <td>0</td>\n",
              "      <td>0</td>\n",
              "      <td>0</td>\n",
              "      <td>0</td>\n",
              "      <td>8</td>\n",
              "      <td>8</td>\n",
              "      <td>0.0</td>\n",
              "      <td>0.0</td>\n",
              "      <td>0.0</td>\n",
              "      <td>0.0</td>\n",
              "      <td>1.0</td>\n",
              "      <td>0.0</td>\n",
              "      <td>0.0</td>\n",
              "      <td>9</td>\n",
              "      <td>9</td>\n",
              "      <td>1.0</td>\n",
              "      <td>0.0</td>\n",
              "      <td>0.11</td>\n",
              "      <td>0.0</td>\n",
              "      <td>0.0</td>\n",
              "      <td>0.0</td>\n",
              "      <td>0.0</td>\n",
              "      <td>0.0</td>\n",
              "      <td>normal</td>\n",
              "    </tr>\n",
              "    <tr>\n",
              "      <th>1</th>\n",
              "      <td>0</td>\n",
              "      <td>tcp</td>\n",
              "      <td>http</td>\n",
              "      <td>SF</td>\n",
              "      <td>239</td>\n",
              "      <td>486</td>\n",
              "      <td>0</td>\n",
              "      <td>0</td>\n",
              "      <td>0</td>\n",
              "      <td>0</td>\n",
              "      <td>0</td>\n",
              "      <td>1</td>\n",
              "      <td>0</td>\n",
              "      <td>0</td>\n",
              "      <td>0</td>\n",
              "      <td>0</td>\n",
              "      <td>0</td>\n",
              "      <td>0</td>\n",
              "      <td>0</td>\n",
              "      <td>0</td>\n",
              "      <td>0</td>\n",
              "      <td>0</td>\n",
              "      <td>8</td>\n",
              "      <td>8</td>\n",
              "      <td>0.0</td>\n",
              "      <td>0.0</td>\n",
              "      <td>0.0</td>\n",
              "      <td>0.0</td>\n",
              "      <td>1.0</td>\n",
              "      <td>0.0</td>\n",
              "      <td>0.0</td>\n",
              "      <td>19</td>\n",
              "      <td>19</td>\n",
              "      <td>1.0</td>\n",
              "      <td>0.0</td>\n",
              "      <td>0.05</td>\n",
              "      <td>0.0</td>\n",
              "      <td>0.0</td>\n",
              "      <td>0.0</td>\n",
              "      <td>0.0</td>\n",
              "      <td>0.0</td>\n",
              "      <td>normal</td>\n",
              "    </tr>\n",
              "    <tr>\n",
              "      <th>2</th>\n",
              "      <td>0</td>\n",
              "      <td>tcp</td>\n",
              "      <td>http</td>\n",
              "      <td>SF</td>\n",
              "      <td>235</td>\n",
              "      <td>1337</td>\n",
              "      <td>0</td>\n",
              "      <td>0</td>\n",
              "      <td>0</td>\n",
              "      <td>0</td>\n",
              "      <td>0</td>\n",
              "      <td>1</td>\n",
              "      <td>0</td>\n",
              "      <td>0</td>\n",
              "      <td>0</td>\n",
              "      <td>0</td>\n",
              "      <td>0</td>\n",
              "      <td>0</td>\n",
              "      <td>0</td>\n",
              "      <td>0</td>\n",
              "      <td>0</td>\n",
              "      <td>0</td>\n",
              "      <td>8</td>\n",
              "      <td>8</td>\n",
              "      <td>0.0</td>\n",
              "      <td>0.0</td>\n",
              "      <td>0.0</td>\n",
              "      <td>0.0</td>\n",
              "      <td>1.0</td>\n",
              "      <td>0.0</td>\n",
              "      <td>0.0</td>\n",
              "      <td>29</td>\n",
              "      <td>29</td>\n",
              "      <td>1.0</td>\n",
              "      <td>0.0</td>\n",
              "      <td>0.03</td>\n",
              "      <td>0.0</td>\n",
              "      <td>0.0</td>\n",
              "      <td>0.0</td>\n",
              "      <td>0.0</td>\n",
              "      <td>0.0</td>\n",
              "      <td>normal</td>\n",
              "    </tr>\n",
              "    <tr>\n",
              "      <th>3</th>\n",
              "      <td>0</td>\n",
              "      <td>tcp</td>\n",
              "      <td>http</td>\n",
              "      <td>SF</td>\n",
              "      <td>219</td>\n",
              "      <td>1337</td>\n",
              "      <td>0</td>\n",
              "      <td>0</td>\n",
              "      <td>0</td>\n",
              "      <td>0</td>\n",
              "      <td>0</td>\n",
              "      <td>1</td>\n",
              "      <td>0</td>\n",
              "      <td>0</td>\n",
              "      <td>0</td>\n",
              "      <td>0</td>\n",
              "      <td>0</td>\n",
              "      <td>0</td>\n",
              "      <td>0</td>\n",
              "      <td>0</td>\n",
              "      <td>0</td>\n",
              "      <td>0</td>\n",
              "      <td>6</td>\n",
              "      <td>6</td>\n",
              "      <td>0.0</td>\n",
              "      <td>0.0</td>\n",
              "      <td>0.0</td>\n",
              "      <td>0.0</td>\n",
              "      <td>1.0</td>\n",
              "      <td>0.0</td>\n",
              "      <td>0.0</td>\n",
              "      <td>39</td>\n",
              "      <td>39</td>\n",
              "      <td>1.0</td>\n",
              "      <td>0.0</td>\n",
              "      <td>0.03</td>\n",
              "      <td>0.0</td>\n",
              "      <td>0.0</td>\n",
              "      <td>0.0</td>\n",
              "      <td>0.0</td>\n",
              "      <td>0.0</td>\n",
              "      <td>normal</td>\n",
              "    </tr>\n",
              "    <tr>\n",
              "      <th>4</th>\n",
              "      <td>0</td>\n",
              "      <td>tcp</td>\n",
              "      <td>http</td>\n",
              "      <td>SF</td>\n",
              "      <td>217</td>\n",
              "      <td>2032</td>\n",
              "      <td>0</td>\n",
              "      <td>0</td>\n",
              "      <td>0</td>\n",
              "      <td>0</td>\n",
              "      <td>0</td>\n",
              "      <td>1</td>\n",
              "      <td>0</td>\n",
              "      <td>0</td>\n",
              "      <td>0</td>\n",
              "      <td>0</td>\n",
              "      <td>0</td>\n",
              "      <td>0</td>\n",
              "      <td>0</td>\n",
              "      <td>0</td>\n",
              "      <td>0</td>\n",
              "      <td>0</td>\n",
              "      <td>6</td>\n",
              "      <td>6</td>\n",
              "      <td>0.0</td>\n",
              "      <td>0.0</td>\n",
              "      <td>0.0</td>\n",
              "      <td>0.0</td>\n",
              "      <td>1.0</td>\n",
              "      <td>0.0</td>\n",
              "      <td>0.0</td>\n",
              "      <td>49</td>\n",
              "      <td>49</td>\n",
              "      <td>1.0</td>\n",
              "      <td>0.0</td>\n",
              "      <td>0.02</td>\n",
              "      <td>0.0</td>\n",
              "      <td>0.0</td>\n",
              "      <td>0.0</td>\n",
              "      <td>0.0</td>\n",
              "      <td>0.0</td>\n",
              "      <td>normal</td>\n",
              "    </tr>\n",
              "  </tbody>\n",
              "</table>\n",
              "</div>"
            ],
            "text/plain": [
              "   duration protocol_type  ... dst_host_srv_rerror_rate   label\n",
              "0         0           tcp  ...                      0.0  normal\n",
              "1         0           tcp  ...                      0.0  normal\n",
              "2         0           tcp  ...                      0.0  normal\n",
              "3         0           tcp  ...                      0.0  normal\n",
              "4         0           tcp  ...                      0.0  normal\n",
              "\n",
              "[5 rows x 42 columns]"
            ]
          },
          "metadata": {
            "tags": []
          },
          "execution_count": 79
        }
      ]
    },
    {
      "cell_type": "code",
      "metadata": {
        "colab": {
          "base_uri": "https://localhost:8080/"
        },
        "id": "s1AP_cwTwHzQ",
        "outputId": "2b4b8e6c-da00-48d6-f5d4-961e08119775"
      },
      "source": [
        "data_clean2 = data2.drop_duplicates(subset=data2.columns, keep='first')\n",
        "data_clean2.shape"
      ],
      "execution_count": 80,
      "outputs": [
        {
          "output_type": "execute_result",
          "data": {
            "text/plain": [
              "(145585, 42)"
            ]
          },
          "metadata": {
            "tags": []
          },
          "execution_count": 80
        }
      ]
    },
    {
      "cell_type": "code",
      "metadata": {
        "colab": {
          "base_uri": "https://localhost:8080/"
        },
        "id": "v8UMaJ0CxNCh",
        "outputId": "e0c55264-35f7-4b2b-ca77-2246b12e81d0"
      },
      "source": [
        "data_clean2[\"protocol_type\"] =data_clean2[\"protocol_type\"].astype('category')\n",
        "data_clean2[\"service\"] = data_clean2[\"service\"].astype('category')\n",
        "data_clean2[\"flag\"] = data_clean2[\"flag\"].astype('category')\n",
        "data_clean2[\"label\"] = data_clean2[\"label\"].astype('category')\n",
        "data_clean.dtypes"
      ],
      "execution_count": 81,
      "outputs": [
        {
          "output_type": "stream",
          "text": [
            "/usr/local/lib/python3.7/dist-packages/ipykernel_launcher.py:1: SettingWithCopyWarning: \n",
            "A value is trying to be set on a copy of a slice from a DataFrame.\n",
            "Try using .loc[row_indexer,col_indexer] = value instead\n",
            "\n",
            "See the caveats in the documentation: https://pandas.pydata.org/pandas-docs/stable/user_guide/indexing.html#returning-a-view-versus-a-copy\n",
            "  \"\"\"Entry point for launching an IPython kernel.\n",
            "/usr/local/lib/python3.7/dist-packages/ipykernel_launcher.py:2: SettingWithCopyWarning: \n",
            "A value is trying to be set on a copy of a slice from a DataFrame.\n",
            "Try using .loc[row_indexer,col_indexer] = value instead\n",
            "\n",
            "See the caveats in the documentation: https://pandas.pydata.org/pandas-docs/stable/user_guide/indexing.html#returning-a-view-versus-a-copy\n",
            "  \n",
            "/usr/local/lib/python3.7/dist-packages/ipykernel_launcher.py:3: SettingWithCopyWarning: \n",
            "A value is trying to be set on a copy of a slice from a DataFrame.\n",
            "Try using .loc[row_indexer,col_indexer] = value instead\n",
            "\n",
            "See the caveats in the documentation: https://pandas.pydata.org/pandas-docs/stable/user_guide/indexing.html#returning-a-view-versus-a-copy\n",
            "  This is separate from the ipykernel package so we can avoid doing imports until\n",
            "/usr/local/lib/python3.7/dist-packages/ipykernel_launcher.py:4: SettingWithCopyWarning: \n",
            "A value is trying to be set on a copy of a slice from a DataFrame.\n",
            "Try using .loc[row_indexer,col_indexer] = value instead\n",
            "\n",
            "See the caveats in the documentation: https://pandas.pydata.org/pandas-docs/stable/user_guide/indexing.html#returning-a-view-versus-a-copy\n",
            "  after removing the cwd from sys.path.\n"
          ],
          "name": "stderr"
        },
        {
          "output_type": "execute_result",
          "data": {
            "text/plain": [
              "duration                         int64\n",
              "protocol_type                    int64\n",
              "service                          int64\n",
              "flag                             int64\n",
              "src_bytes                        int64\n",
              "dst_bytes                        int64\n",
              "land                             int64\n",
              "wrong_fragment                   int64\n",
              "urgent                           int64\n",
              "hot                              int64\n",
              "num_failed_logins                int64\n",
              "logged_in                        int64\n",
              "lnum_compromised                 int64\n",
              "lroot_shell                      int64\n",
              "lsu_attempted                    int64\n",
              "lnum_root                        int64\n",
              "lnum_file_creations              int64\n",
              "lnum_shells                      int64\n",
              "lnum_access_files                int64\n",
              "lnum_outbound_cmds               int64\n",
              "is_host_login                    int64\n",
              "is_guest_login                   int64\n",
              "count                            int64\n",
              "srv_count                        int64\n",
              "serror_rate                    float64\n",
              "srv_serror_rate                float64\n",
              "rerror_rate                    float64\n",
              "srv_rerror_rate                float64\n",
              "same_srv_rate                  float64\n",
              "diff_srv_rate                  float64\n",
              "srv_diff_host_rate             float64\n",
              "dst_host_count                   int64\n",
              "dst_host_srv_count               int64\n",
              "dst_host_same_srv_rate         float64\n",
              "dst_host_diff_srv_rate         float64\n",
              "dst_host_same_src_port_rate    float64\n",
              "dst_host_srv_diff_host_rate    float64\n",
              "dst_host_serror_rate           float64\n",
              "dst_host_srv_serror_rate       float64\n",
              "dst_host_rerror_rate           float64\n",
              "dst_host_srv_rerror_rate       float64\n",
              "label                            int64\n",
              "dtype: object"
            ]
          },
          "metadata": {
            "tags": []
          },
          "execution_count": 81
        }
      ]
    },
    {
      "cell_type": "code",
      "metadata": {
        "colab": {
          "base_uri": "https://localhost:8080/"
        },
        "id": "CJ1wWwpIxfVx",
        "outputId": "82657c5f-f550-4e0d-b352-d0be34538215"
      },
      "source": [
        "data_clean2[\"label\"].cat.categories"
      ],
      "execution_count": 82,
      "outputs": [
        {
          "output_type": "execute_result",
          "data": {
            "text/plain": [
              "Index(['back', 'buffer_overflow', 'ftp_write', 'guess_passwd', 'imap',\n",
              "       'ipsweep', 'land', 'loadmodule', 'multihop', 'neptune', 'nmap',\n",
              "       'normal', 'perl', 'phf', 'pod', 'portsweep', 'rootkit', 'satan',\n",
              "       'smurf', 'spy', 'teardrop', 'warezclient', 'warezmaster'],\n",
              "      dtype='object')"
            ]
          },
          "metadata": {
            "tags": []
          },
          "execution_count": 82
        }
      ]
    },
    {
      "cell_type": "code",
      "metadata": {
        "id": "fq4MhuHB0iNK"
      },
      "source": [
        "dict_service2 = dict(enumerate(data_clean2[\"service\"].cat.categories))\n",
        "dict_protocol_type2 = dict(enumerate(data_clean2[\"protocol_type\"].cat.categories))\n",
        "dict_label2 = {\n",
        "    0:\"normal\",\n",
        "    1:\"attack\",\n",
        "}\n",
        "dict_flag2 = dict(enumerate(data_clean2[\"flag\"].cat.categories))"
      ],
      "execution_count": 83,
      "outputs": []
    },
    {
      "cell_type": "code",
      "metadata": {
        "colab": {
          "base_uri": "https://localhost:8080/"
        },
        "id": "yuXHJP_3xkFY",
        "outputId": "923fd24f-d3c4-4373-b938-af321e88909c"
      },
      "source": [
        "data_clean2[\"protocol_type\"] =data_clean2[\"protocol_type\"].cat.codes\n",
        "data_clean2[\"service\"] = data_clean2[\"service\"].cat.codes\n",
        "data_clean2[\"flag\"] = data_clean2[\"flag\"].cat.codes\n",
        "data_clean2[\"label\"] = data_clean2[\"label\"].cat.codes"
      ],
      "execution_count": 84,
      "outputs": [
        {
          "output_type": "stream",
          "text": [
            "/usr/local/lib/python3.7/dist-packages/ipykernel_launcher.py:1: SettingWithCopyWarning: \n",
            "A value is trying to be set on a copy of a slice from a DataFrame.\n",
            "Try using .loc[row_indexer,col_indexer] = value instead\n",
            "\n",
            "See the caveats in the documentation: https://pandas.pydata.org/pandas-docs/stable/user_guide/indexing.html#returning-a-view-versus-a-copy\n",
            "  \"\"\"Entry point for launching an IPython kernel.\n",
            "/usr/local/lib/python3.7/dist-packages/ipykernel_launcher.py:2: SettingWithCopyWarning: \n",
            "A value is trying to be set on a copy of a slice from a DataFrame.\n",
            "Try using .loc[row_indexer,col_indexer] = value instead\n",
            "\n",
            "See the caveats in the documentation: https://pandas.pydata.org/pandas-docs/stable/user_guide/indexing.html#returning-a-view-versus-a-copy\n",
            "  \n",
            "/usr/local/lib/python3.7/dist-packages/ipykernel_launcher.py:3: SettingWithCopyWarning: \n",
            "A value is trying to be set on a copy of a slice from a DataFrame.\n",
            "Try using .loc[row_indexer,col_indexer] = value instead\n",
            "\n",
            "See the caveats in the documentation: https://pandas.pydata.org/pandas-docs/stable/user_guide/indexing.html#returning-a-view-versus-a-copy\n",
            "  This is separate from the ipykernel package so we can avoid doing imports until\n",
            "/usr/local/lib/python3.7/dist-packages/ipykernel_launcher.py:4: SettingWithCopyWarning: \n",
            "A value is trying to be set on a copy of a slice from a DataFrame.\n",
            "Try using .loc[row_indexer,col_indexer] = value instead\n",
            "\n",
            "See the caveats in the documentation: https://pandas.pydata.org/pandas-docs/stable/user_guide/indexing.html#returning-a-view-versus-a-copy\n",
            "  after removing the cwd from sys.path.\n"
          ],
          "name": "stderr"
        }
      ]
    },
    {
      "cell_type": "code",
      "metadata": {
        "colab": {
          "base_uri": "https://localhost:8080/"
        },
        "id": "Rq0axfqCyKLh",
        "outputId": "51ef8ae2-674d-406d-f582-d0107651277c"
      },
      "source": [
        "data_clean2[\"protocol_type\"] =data_clean2[\"protocol_type\"].astype('int')\n",
        "data_clean2[\"service\"] = data_clean2[\"service\"].astype('int')\n",
        "data_clean2[\"flag\"] = data_clean2[\"flag\"].astype('int')\n",
        "data_clean2[\"label\"] = data_clean2[\"label\"].astype('int')\n",
        "data_clean2.dtypes"
      ],
      "execution_count": 85,
      "outputs": [
        {
          "output_type": "stream",
          "text": [
            "/usr/local/lib/python3.7/dist-packages/ipykernel_launcher.py:1: SettingWithCopyWarning: \n",
            "A value is trying to be set on a copy of a slice from a DataFrame.\n",
            "Try using .loc[row_indexer,col_indexer] = value instead\n",
            "\n",
            "See the caveats in the documentation: https://pandas.pydata.org/pandas-docs/stable/user_guide/indexing.html#returning-a-view-versus-a-copy\n",
            "  \"\"\"Entry point for launching an IPython kernel.\n",
            "/usr/local/lib/python3.7/dist-packages/ipykernel_launcher.py:2: SettingWithCopyWarning: \n",
            "A value is trying to be set on a copy of a slice from a DataFrame.\n",
            "Try using .loc[row_indexer,col_indexer] = value instead\n",
            "\n",
            "See the caveats in the documentation: https://pandas.pydata.org/pandas-docs/stable/user_guide/indexing.html#returning-a-view-versus-a-copy\n",
            "  \n",
            "/usr/local/lib/python3.7/dist-packages/ipykernel_launcher.py:3: SettingWithCopyWarning: \n",
            "A value is trying to be set on a copy of a slice from a DataFrame.\n",
            "Try using .loc[row_indexer,col_indexer] = value instead\n",
            "\n",
            "See the caveats in the documentation: https://pandas.pydata.org/pandas-docs/stable/user_guide/indexing.html#returning-a-view-versus-a-copy\n",
            "  This is separate from the ipykernel package so we can avoid doing imports until\n",
            "/usr/local/lib/python3.7/dist-packages/ipykernel_launcher.py:4: SettingWithCopyWarning: \n",
            "A value is trying to be set on a copy of a slice from a DataFrame.\n",
            "Try using .loc[row_indexer,col_indexer] = value instead\n",
            "\n",
            "See the caveats in the documentation: https://pandas.pydata.org/pandas-docs/stable/user_guide/indexing.html#returning-a-view-versus-a-copy\n",
            "  after removing the cwd from sys.path.\n"
          ],
          "name": "stderr"
        },
        {
          "output_type": "execute_result",
          "data": {
            "text/plain": [
              "duration                         int64\n",
              "protocol_type                    int64\n",
              "service                          int64\n",
              "flag                             int64\n",
              "src_bytes                        int64\n",
              "dst_bytes                        int64\n",
              "land                             int64\n",
              "wrong_fragment                   int64\n",
              "urgent                           int64\n",
              "hot                              int64\n",
              "num_failed_logins                int64\n",
              "logged_in                        int64\n",
              "lnum_compromised                 int64\n",
              "lroot_shell                      int64\n",
              "lsu_attempted                    int64\n",
              "lnum_root                        int64\n",
              "lnum_file_creations              int64\n",
              "lnum_shells                      int64\n",
              "lnum_access_files                int64\n",
              "lnum_outbound_cmds               int64\n",
              "is_host_login                    int64\n",
              "is_guest_login                   int64\n",
              "count                            int64\n",
              "srv_count                        int64\n",
              "serror_rate                    float64\n",
              "srv_serror_rate                float64\n",
              "rerror_rate                    float64\n",
              "srv_rerror_rate                float64\n",
              "same_srv_rate                  float64\n",
              "diff_srv_rate                  float64\n",
              "srv_diff_host_rate             float64\n",
              "dst_host_count                   int64\n",
              "dst_host_srv_count               int64\n",
              "dst_host_same_srv_rate         float64\n",
              "dst_host_diff_srv_rate         float64\n",
              "dst_host_same_src_port_rate    float64\n",
              "dst_host_srv_diff_host_rate    float64\n",
              "dst_host_serror_rate           float64\n",
              "dst_host_srv_serror_rate       float64\n",
              "dst_host_rerror_rate           float64\n",
              "dst_host_srv_rerror_rate       float64\n",
              "label                            int64\n",
              "dtype: object"
            ]
          },
          "metadata": {
            "tags": []
          },
          "execution_count": 85
        }
      ]
    },
    {
      "cell_type": "code",
      "metadata": {
        "id": "dtLYmyl-yn6K"
      },
      "source": [
        "temp = []\n",
        "j = 0\n",
        "k = 0\n",
        "for i in data_clean2[\"label\"]:\n",
        "    if i == 11:\n",
        "      i = 0\n",
        "      k = k + 1\n",
        "    else:\n",
        "      i = 1\n",
        "      j = j + 1\n",
        "    temp.append(i)\n",
        "#temp"
      ],
      "execution_count": 86,
      "outputs": []
    },
    {
      "cell_type": "code",
      "metadata": {
        "colab": {
          "base_uri": "https://localhost:8080/"
        },
        "id": "HP2kKb0S0981",
        "outputId": "6f4065ac-f658-4347-c28a-7d616980cda4"
      },
      "source": [
        "data_clean2.drop(columns=[\"label\"], inplace=True)\n",
        "data_clean2[\"label\"] = temp"
      ],
      "execution_count": 87,
      "outputs": [
        {
          "output_type": "stream",
          "text": [
            "/usr/local/lib/python3.7/dist-packages/pandas/core/frame.py:4174: SettingWithCopyWarning: \n",
            "A value is trying to be set on a copy of a slice from a DataFrame\n",
            "\n",
            "See the caveats in the documentation: https://pandas.pydata.org/pandas-docs/stable/user_guide/indexing.html#returning-a-view-versus-a-copy\n",
            "  errors=errors,\n"
          ],
          "name": "stderr"
        }
      ]
    },
    {
      "cell_type": "code",
      "metadata": {
        "colab": {
          "base_uri": "https://localhost:8080/"
        },
        "id": "eut6RWUZ0Y6q",
        "outputId": "c3173558-ae93-45aa-e346-1ab058b7cef8"
      },
      "source": [
        "data_clean2[\"label\"]"
      ],
      "execution_count": 89,
      "outputs": [
        {
          "output_type": "execute_result",
          "data": {
            "text/plain": [
              "0         0\n",
              "1         0\n",
              "2         0\n",
              "3         0\n",
              "4         0\n",
              "         ..\n",
              "494015    0\n",
              "494016    0\n",
              "494017    0\n",
              "494018    0\n",
              "494019    0\n",
              "Name: label, Length: 145585, dtype: int64"
            ]
          },
          "metadata": {
            "tags": []
          },
          "execution_count": 89
        }
      ]
    },
    {
      "cell_type": "code",
      "metadata": {
        "colab": {
          "base_uri": "https://localhost:8080/"
        },
        "id": "8_Md190a2ejY",
        "outputId": "49c8f77b-05a4-45b5-f0db-42c7b6bdbb17"
      },
      "source": [
        "dict_label2"
      ],
      "execution_count": 91,
      "outputs": [
        {
          "output_type": "execute_result",
          "data": {
            "text/plain": [
              "{0: 'normal', 1: 'attack'}"
            ]
          },
          "metadata": {
            "tags": []
          },
          "execution_count": 91
        }
      ]
    },
    {
      "cell_type": "code",
      "metadata": {
        "id": "CYhOHptP34Z2"
      },
      "source": [
        "X2 = data_clean2.drop(columns=[\"label\"])\n",
        "Y2 = data_clean2[\"label\"]"
      ],
      "execution_count": 94,
      "outputs": []
    },
    {
      "cell_type": "code",
      "metadata": {
        "colab": {
          "base_uri": "https://localhost:8080/"
        },
        "id": "a8h6_p0h4IgF",
        "outputId": "a2331d83-08e6-41b2-b9a5-07a5cfd793d3"
      },
      "source": [
        "from sklearn.model_selection import train_test_split\n",
        "X_train2, X_test2, Y_train2, Y_test2 = train_test_split(X2, Y2, test_size = 0.3, random_state = 5)\n",
        "print(X_train2.shape)\n",
        "print(X_test2.shape)"
      ],
      "execution_count": 143,
      "outputs": [
        {
          "output_type": "stream",
          "text": [
            "(101909, 41)\n",
            "(43676, 41)\n"
          ],
          "name": "stdout"
        }
      ]
    },
    {
      "cell_type": "code",
      "metadata": {
        "id": "EkeGOory2flU"
      },
      "source": [
        "clf2 = lgb.LGBMClassifier(boosting_type=\"goss\", \n",
        "                          #n_estimators =  3, \n",
        "                          num_leaves = 8, \n",
        "                          max_depth = 3, \n",
        "                          random_state = 43, \n",
        "                          objective=\"binary\",\n",
        "                          silent=False)"
      ],
      "execution_count": 175,
      "outputs": []
    },
    {
      "cell_type": "code",
      "metadata": {
        "colab": {
          "base_uri": "https://localhost:8080/"
        },
        "id": "3-d4Un_p3aW0",
        "outputId": "4ec379a5-099c-4cc3-ba90-8162d6ff9151"
      },
      "source": [
        "model3 = clf2.fit(X_train2, Y_train2, feature_name=fitur, categorical_feature=[\"protocol_type\", \"service\", \"flag\"])"
      ],
      "execution_count": 176,
      "outputs": [
        {
          "output_type": "stream",
          "text": [
            "/usr/local/lib/python3.7/dist-packages/lightgbm/basic.py:1209: UserWarning: categorical_feature in Dataset is overridden.\n",
            "New categorical_feature is ['flag', 'protocol_type', 'service']\n",
            "  'New categorical_feature is {}'.format(sorted(list(categorical_feature))))\n"
          ],
          "name": "stderr"
        }
      ]
    },
    {
      "cell_type": "code",
      "metadata": {
        "id": "USzg0vbV3qh0"
      },
      "source": [
        "pred3 = model3.predict(X_test2)"
      ],
      "execution_count": 177,
      "outputs": []
    },
    {
      "cell_type": "code",
      "metadata": {
        "id": "eQYoL6f-4nvY"
      },
      "source": [
        "pred3_prob = model3.predict_proba(X_test2)"
      ],
      "execution_count": 178,
      "outputs": []
    },
    {
      "cell_type": "code",
      "metadata": {
        "colab": {
          "base_uri": "https://localhost:8080/"
        },
        "id": "4UUlK-3K4xhM",
        "outputId": "c07b39a0-3d53-4362-e90c-21e3c8d4432b"
      },
      "source": [
        "from sklearn.metrics import precision_score\n",
        "from sklearn.metrics import roc_auc_score\n",
        "from sklearn.metrics import recall_score\n",
        "from sklearn.metrics import f1_score\n",
        "\n",
        "auc = roc_auc_score(Y_test2, pred3)\n",
        "precision = precision_score(Y_test2, pred3)\n",
        "recall = recall_score(Y_test2, pred3)\n",
        "fmeasure = f1_score(Y_test2, pred3)\n",
        "\n",
        "print(\"Precision  =\",precision)\n",
        "print(\"ROC AUC    =\",auc)\n",
        "print(\"Recall     =\",recall)\n",
        "print(\"F-Measure  =\",fmeasure)"
      ],
      "execution_count": 181,
      "outputs": [
        {
          "output_type": "stream",
          "text": [
            "Precision  = 0.9991888290167449\n",
            "ROC AUC    = 0.9983756777427126\n",
            "Recall     = 0.9972819801064076\n",
            "F-Measure  = 0.9982344939364997\n"
          ],
          "name": "stdout"
        }
      ]
    },
    {
      "cell_type": "code",
      "metadata": {
        "colab": {
          "base_uri": "https://localhost:8080/"
        },
        "id": "dU74m3hO482M",
        "outputId": "58b2a8f0-fe96-4e22-c40e-e05acb8d197e"
      },
      "source": [
        "dict_label"
      ],
      "execution_count": 189,
      "outputs": [
        {
          "output_type": "execute_result",
          "data": {
            "text/plain": [
              "{0: 'back',\n",
              " 1: 'buffer_overflow',\n",
              " 2: 'ftp_write',\n",
              " 3: 'guess_passwd',\n",
              " 4: 'imap',\n",
              " 5: 'ipsweep',\n",
              " 6: 'land',\n",
              " 7: 'loadmodule',\n",
              " 8: 'multihop',\n",
              " 9: 'neptune',\n",
              " 10: 'nmap',\n",
              " 11: 'normal',\n",
              " 12: 'perl',\n",
              " 13: 'phf',\n",
              " 14: 'pod',\n",
              " 15: 'portsweep',\n",
              " 16: 'rootkit',\n",
              " 17: 'satan',\n",
              " 18: 'smurf',\n",
              " 19: 'spy',\n",
              " 20: 'teardrop',\n",
              " 21: 'warezclient',\n",
              " 22: 'warezmaster'}"
            ]
          },
          "metadata": {
            "tags": []
          },
          "execution_count": 189
        }
      ]
    },
    {
      "cell_type": "code",
      "metadata": {
        "id": "E0al9KpnGWDF"
      },
      "source": [
        ""
      ],
      "execution_count": null,
      "outputs": []
    }
  ]
}